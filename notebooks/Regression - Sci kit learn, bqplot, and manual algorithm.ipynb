{
 "cells": [
  {
   "cell_type": "markdown",
   "metadata": {},
   "source": [
    "## Initialization"
   ]
  },
  {
   "cell_type": "code",
   "execution_count": 1,
   "metadata": {
    "ExecuteTime": {
     "end_time": "2018-01-31T01:45:19.815434Z",
     "start_time": "2018-01-31T01:45:18.293736Z"
    }
   },
   "outputs": [],
   "source": [
    "import numpy as np\n",
    "import pandas as pd\n",
    "import quandl\n",
    "import os\n",
    "import math\n",
    "import time\n",
    "import datetime\n",
    "from statistics import mean\n",
    "from sklearn import preprocessing, model_selection, svm\n",
    "from sklearn.linear_model import LinearRegression\n",
    "from bqplot import pyplot as bplt\n",
    "import matplotlib.pyplot as plt\n",
    "%matplotlib inline"
   ]
  },
  {
   "cell_type": "markdown",
   "metadata": {},
   "source": [
    "## Getting Data From Quandl"
   ]
  },
  {
   "cell_type": "code",
   "execution_count": 2,
   "metadata": {
    "ExecuteTime": {
     "end_time": "2018-01-31T01:45:23.277369Z",
     "start_time": "2018-01-31T01:45:19.818435Z"
    }
   },
   "outputs": [],
   "source": [
    "df_ = quandl.get('WIKI/GOOGL')"
   ]
  },
  {
   "cell_type": "code",
   "execution_count": 3,
   "metadata": {
    "ExecuteTime": {
     "end_time": "2018-01-31T01:45:23.367386Z",
     "start_time": "2018-01-31T01:45:23.281370Z"
    }
   },
   "outputs": [
    {
     "data": {
      "text/html": [
       "<div>\n",
       "<style scoped>\n",
       "    .dataframe tbody tr th:only-of-type {\n",
       "        vertical-align: middle;\n",
       "    }\n",
       "\n",
       "    .dataframe tbody tr th {\n",
       "        vertical-align: top;\n",
       "    }\n",
       "\n",
       "    .dataframe thead th {\n",
       "        text-align: right;\n",
       "    }\n",
       "</style>\n",
       "<table border=\"1\" class=\"dataframe\">\n",
       "  <thead>\n",
       "    <tr style=\"text-align: right;\">\n",
       "      <th></th>\n",
       "      <th>Open</th>\n",
       "      <th>High</th>\n",
       "      <th>Low</th>\n",
       "      <th>Close</th>\n",
       "      <th>Volume</th>\n",
       "      <th>Ex-Dividend</th>\n",
       "      <th>Split Ratio</th>\n",
       "      <th>Adj. Open</th>\n",
       "      <th>Adj. High</th>\n",
       "      <th>Adj. Low</th>\n",
       "      <th>Adj. Close</th>\n",
       "      <th>Adj. Volume</th>\n",
       "    </tr>\n",
       "    <tr>\n",
       "      <th>Date</th>\n",
       "      <th></th>\n",
       "      <th></th>\n",
       "      <th></th>\n",
       "      <th></th>\n",
       "      <th></th>\n",
       "      <th></th>\n",
       "      <th></th>\n",
       "      <th></th>\n",
       "      <th></th>\n",
       "      <th></th>\n",
       "      <th></th>\n",
       "      <th></th>\n",
       "    </tr>\n",
       "  </thead>\n",
       "  <tbody>\n",
       "    <tr>\n",
       "      <th>2018-01-24</th>\n",
       "      <td>1184.98</td>\n",
       "      <td>1187.05</td>\n",
       "      <td>1167.40</td>\n",
       "      <td>1171.29</td>\n",
       "      <td>1818182.0</td>\n",
       "      <td>0.0</td>\n",
       "      <td>1.0</td>\n",
       "      <td>1184.98</td>\n",
       "      <td>1187.05</td>\n",
       "      <td>1167.40</td>\n",
       "      <td>1171.29</td>\n",
       "      <td>1818182.0</td>\n",
       "    </tr>\n",
       "    <tr>\n",
       "      <th>2018-01-25</th>\n",
       "      <td>1180.71</td>\n",
       "      <td>1185.00</td>\n",
       "      <td>1171.84</td>\n",
       "      <td>1182.14</td>\n",
       "      <td>1398961.0</td>\n",
       "      <td>0.0</td>\n",
       "      <td>1.0</td>\n",
       "      <td>1180.71</td>\n",
       "      <td>1185.00</td>\n",
       "      <td>1171.84</td>\n",
       "      <td>1182.14</td>\n",
       "      <td>1398961.0</td>\n",
       "    </tr>\n",
       "    <tr>\n",
       "      <th>2018-01-26</th>\n",
       "      <td>1187.53</td>\n",
       "      <td>1187.56</td>\n",
       "      <td>1168.03</td>\n",
       "      <td>1187.56</td>\n",
       "      <td>1981476.0</td>\n",
       "      <td>0.0</td>\n",
       "      <td>1.0</td>\n",
       "      <td>1187.53</td>\n",
       "      <td>1187.56</td>\n",
       "      <td>1168.03</td>\n",
       "      <td>1187.56</td>\n",
       "      <td>1981476.0</td>\n",
       "    </tr>\n",
       "    <tr>\n",
       "      <th>2018-01-29</th>\n",
       "      <td>1188.00</td>\n",
       "      <td>1198.00</td>\n",
       "      <td>1184.06</td>\n",
       "      <td>1186.48</td>\n",
       "      <td>1533931.0</td>\n",
       "      <td>0.0</td>\n",
       "      <td>1.0</td>\n",
       "      <td>1188.00</td>\n",
       "      <td>1198.00</td>\n",
       "      <td>1184.06</td>\n",
       "      <td>1186.48</td>\n",
       "      <td>1533931.0</td>\n",
       "    </tr>\n",
       "    <tr>\n",
       "      <th>2018-01-30</th>\n",
       "      <td>1177.72</td>\n",
       "      <td>1187.93</td>\n",
       "      <td>1174.51</td>\n",
       "      <td>1177.37</td>\n",
       "      <td>1792602.0</td>\n",
       "      <td>0.0</td>\n",
       "      <td>1.0</td>\n",
       "      <td>1177.72</td>\n",
       "      <td>1187.93</td>\n",
       "      <td>1174.51</td>\n",
       "      <td>1177.37</td>\n",
       "      <td>1792602.0</td>\n",
       "    </tr>\n",
       "  </tbody>\n",
       "</table>\n",
       "</div>"
      ],
      "text/plain": [
       "               Open     High      Low    Close     Volume  Ex-Dividend  \\\n",
       "Date                                                                     \n",
       "2018-01-24  1184.98  1187.05  1167.40  1171.29  1818182.0          0.0   \n",
       "2018-01-25  1180.71  1185.00  1171.84  1182.14  1398961.0          0.0   \n",
       "2018-01-26  1187.53  1187.56  1168.03  1187.56  1981476.0          0.0   \n",
       "2018-01-29  1188.00  1198.00  1184.06  1186.48  1533931.0          0.0   \n",
       "2018-01-30  1177.72  1187.93  1174.51  1177.37  1792602.0          0.0   \n",
       "\n",
       "            Split Ratio  Adj. Open  Adj. High  Adj. Low  Adj. Close  \\\n",
       "Date                                                                  \n",
       "2018-01-24          1.0    1184.98    1187.05   1167.40     1171.29   \n",
       "2018-01-25          1.0    1180.71    1185.00   1171.84     1182.14   \n",
       "2018-01-26          1.0    1187.53    1187.56   1168.03     1187.56   \n",
       "2018-01-29          1.0    1188.00    1198.00   1184.06     1186.48   \n",
       "2018-01-30          1.0    1177.72    1187.93   1174.51     1177.37   \n",
       "\n",
       "            Adj. Volume  \n",
       "Date                     \n",
       "2018-01-24    1818182.0  \n",
       "2018-01-25    1398961.0  \n",
       "2018-01-26    1981476.0  \n",
       "2018-01-29    1533931.0  \n",
       "2018-01-30    1792602.0  "
      ]
     },
     "execution_count": 3,
     "metadata": {},
     "output_type": "execute_result"
    }
   ],
   "source": [
    "df = df_ # Restart the DataFrame\n",
    "df.tail()"
   ]
  },
  {
   "cell_type": "markdown",
   "metadata": {},
   "source": [
    "## Preprocessing"
   ]
  },
  {
   "cell_type": "code",
   "execution_count": 4,
   "metadata": {
    "ExecuteTime": {
     "end_time": "2018-01-31T01:45:23.490902Z",
     "start_time": "2018-01-31T01:45:23.370382Z"
    }
   },
   "outputs": [],
   "source": [
    "df['HL_PCT'] = (df['Adj. High'] - df['Adj. Close']) / df['Adj. Close'] * 100\n",
    "df['PCT_Change'] = (df['Adj. Close'] - df['Adj. Open']) / df['Adj. Open'] * 100\n",
    "df = df[[\"Adj. Close\", \"HL_PCT\", \"PCT_Change\", \"Adj. Volume\"]]"
   ]
  },
  {
   "cell_type": "code",
   "execution_count": 5,
   "metadata": {
    "ExecuteTime": {
     "end_time": "2018-01-31T01:45:23.508399Z",
     "start_time": "2018-01-31T01:45:23.493402Z"
    }
   },
   "outputs": [
    {
     "data": {
      "text/html": [
       "<div>\n",
       "<style scoped>\n",
       "    .dataframe tbody tr th:only-of-type {\n",
       "        vertical-align: middle;\n",
       "    }\n",
       "\n",
       "    .dataframe tbody tr th {\n",
       "        vertical-align: top;\n",
       "    }\n",
       "\n",
       "    .dataframe thead th {\n",
       "        text-align: right;\n",
       "    }\n",
       "</style>\n",
       "<table border=\"1\" class=\"dataframe\">\n",
       "  <thead>\n",
       "    <tr style=\"text-align: right;\">\n",
       "      <th></th>\n",
       "      <th>Adj. Close</th>\n",
       "      <th>HL_PCT</th>\n",
       "      <th>PCT_Change</th>\n",
       "      <th>Adj. Volume</th>\n",
       "    </tr>\n",
       "    <tr>\n",
       "      <th>Date</th>\n",
       "      <th></th>\n",
       "      <th></th>\n",
       "      <th></th>\n",
       "      <th></th>\n",
       "    </tr>\n",
       "  </thead>\n",
       "  <tbody>\n",
       "    <tr>\n",
       "      <th>2018-01-24</th>\n",
       "      <td>1171.29</td>\n",
       "      <td>1.345525</td>\n",
       "      <td>-1.155294</td>\n",
       "      <td>1818182.0</td>\n",
       "    </tr>\n",
       "    <tr>\n",
       "      <th>2018-01-25</th>\n",
       "      <td>1182.14</td>\n",
       "      <td>0.241934</td>\n",
       "      <td>0.121114</td>\n",
       "      <td>1398961.0</td>\n",
       "    </tr>\n",
       "    <tr>\n",
       "      <th>2018-01-26</th>\n",
       "      <td>1187.56</td>\n",
       "      <td>0.000000</td>\n",
       "      <td>0.002526</td>\n",
       "      <td>1981476.0</td>\n",
       "    </tr>\n",
       "    <tr>\n",
       "      <th>2018-01-29</th>\n",
       "      <td>1186.48</td>\n",
       "      <td>0.970939</td>\n",
       "      <td>-0.127946</td>\n",
       "      <td>1533931.0</td>\n",
       "    </tr>\n",
       "    <tr>\n",
       "      <th>2018-01-30</th>\n",
       "      <td>1177.37</td>\n",
       "      <td>0.896914</td>\n",
       "      <td>-0.029718</td>\n",
       "      <td>1792602.0</td>\n",
       "    </tr>\n",
       "  </tbody>\n",
       "</table>\n",
       "</div>"
      ],
      "text/plain": [
       "            Adj. Close    HL_PCT  PCT_Change  Adj. Volume\n",
       "Date                                                     \n",
       "2018-01-24     1171.29  1.345525   -1.155294    1818182.0\n",
       "2018-01-25     1182.14  0.241934    0.121114    1398961.0\n",
       "2018-01-26     1187.56  0.000000    0.002526    1981476.0\n",
       "2018-01-29     1186.48  0.970939   -0.127946    1533931.0\n",
       "2018-01-30     1177.37  0.896914   -0.029718    1792602.0"
      ]
     },
     "execution_count": 5,
     "metadata": {},
     "output_type": "execute_result"
    }
   ],
   "source": [
    "df.tail()"
   ]
  },
  {
   "cell_type": "code",
   "execution_count": 6,
   "metadata": {
    "ExecuteTime": {
     "end_time": "2018-01-31T01:45:23.527402Z",
     "start_time": "2018-01-31T01:45:23.512900Z"
    }
   },
   "outputs": [
    {
     "data": {
      "text/plain": [
       "'Days: 34'"
      ]
     },
     "execution_count": 6,
     "metadata": {},
     "output_type": "execute_result"
    }
   ],
   "source": [
    "forecast_col = 'Adj. Close'\n",
    "df = df.fillna(-99999)\n",
    "forecast_out = math.ceil(0.01 * len(df))\n",
    "df['label'] = df[forecast_col].shift(-forecast_out)\n",
    "f\"Days: {forecast_out}\""
   ]
  },
  {
   "cell_type": "code",
   "execution_count": 7,
   "metadata": {
    "ExecuteTime": {
     "end_time": "2018-01-31T01:45:23.549904Z",
     "start_time": "2018-01-31T01:45:23.530402Z"
    }
   },
   "outputs": [
    {
     "data": {
      "text/html": [
       "<div>\n",
       "<style scoped>\n",
       "    .dataframe tbody tr th:only-of-type {\n",
       "        vertical-align: middle;\n",
       "    }\n",
       "\n",
       "    .dataframe tbody tr th {\n",
       "        vertical-align: top;\n",
       "    }\n",
       "\n",
       "    .dataframe thead th {\n",
       "        text-align: right;\n",
       "    }\n",
       "</style>\n",
       "<table border=\"1\" class=\"dataframe\">\n",
       "  <thead>\n",
       "    <tr style=\"text-align: right;\">\n",
       "      <th></th>\n",
       "      <th>Adj. Close</th>\n",
       "      <th>HL_PCT</th>\n",
       "      <th>PCT_Change</th>\n",
       "      <th>Adj. Volume</th>\n",
       "      <th>label</th>\n",
       "    </tr>\n",
       "    <tr>\n",
       "      <th>Date</th>\n",
       "      <th></th>\n",
       "      <th></th>\n",
       "      <th></th>\n",
       "      <th></th>\n",
       "      <th></th>\n",
       "    </tr>\n",
       "  </thead>\n",
       "  <tbody>\n",
       "    <tr>\n",
       "      <th>2018-01-24</th>\n",
       "      <td>1171.29</td>\n",
       "      <td>1.345525</td>\n",
       "      <td>-1.155294</td>\n",
       "      <td>1818182.0</td>\n",
       "      <td>NaN</td>\n",
       "    </tr>\n",
       "    <tr>\n",
       "      <th>2018-01-25</th>\n",
       "      <td>1182.14</td>\n",
       "      <td>0.241934</td>\n",
       "      <td>0.121114</td>\n",
       "      <td>1398961.0</td>\n",
       "      <td>NaN</td>\n",
       "    </tr>\n",
       "    <tr>\n",
       "      <th>2018-01-26</th>\n",
       "      <td>1187.56</td>\n",
       "      <td>0.000000</td>\n",
       "      <td>0.002526</td>\n",
       "      <td>1981476.0</td>\n",
       "      <td>NaN</td>\n",
       "    </tr>\n",
       "    <tr>\n",
       "      <th>2018-01-29</th>\n",
       "      <td>1186.48</td>\n",
       "      <td>0.970939</td>\n",
       "      <td>-0.127946</td>\n",
       "      <td>1533931.0</td>\n",
       "      <td>NaN</td>\n",
       "    </tr>\n",
       "    <tr>\n",
       "      <th>2018-01-30</th>\n",
       "      <td>1177.37</td>\n",
       "      <td>0.896914</td>\n",
       "      <td>-0.029718</td>\n",
       "      <td>1792602.0</td>\n",
       "      <td>NaN</td>\n",
       "    </tr>\n",
       "  </tbody>\n",
       "</table>\n",
       "</div>"
      ],
      "text/plain": [
       "            Adj. Close    HL_PCT  PCT_Change  Adj. Volume  label\n",
       "Date                                                            \n",
       "2018-01-24     1171.29  1.345525   -1.155294    1818182.0    NaN\n",
       "2018-01-25     1182.14  0.241934    0.121114    1398961.0    NaN\n",
       "2018-01-26     1187.56  0.000000    0.002526    1981476.0    NaN\n",
       "2018-01-29     1186.48  0.970939   -0.127946    1533931.0    NaN\n",
       "2018-01-30     1177.37  0.896914   -0.029718    1792602.0    NaN"
      ]
     },
     "execution_count": 7,
     "metadata": {},
     "output_type": "execute_result"
    }
   ],
   "source": [
    "df.tail()"
   ]
  },
  {
   "cell_type": "code",
   "execution_count": 8,
   "metadata": {
    "ExecuteTime": {
     "end_time": "2018-01-31T01:45:23.573908Z",
     "start_time": "2018-01-31T01:45:23.552905Z"
    }
   },
   "outputs": [
    {
     "data": {
      "text/plain": [
       "(3351, 3351)"
      ]
     },
     "execution_count": 8,
     "metadata": {},
     "output_type": "execute_result"
    }
   ],
   "source": [
    "X = np.array(df.drop(['label'], 1))\n",
    "X = preprocessing.scale(X)\n",
    "X_lately = X[-forecast_out:]\n",
    "X = X[:-forecast_out]\n",
    "df = df.dropna()\n",
    "y = np.array(df['label'])\n",
    "len(X), len(y)"
   ]
  },
  {
   "cell_type": "code",
   "execution_count": 9,
   "metadata": {
    "ExecuteTime": {
     "end_time": "2018-01-31T01:45:23.584908Z",
     "start_time": "2018-01-31T01:45:23.577408Z"
    }
   },
   "outputs": [],
   "source": [
    "X_train, X_test, y_train, y_test = model_selection.train_test_split(X, y, test_size=0.2)"
   ]
  },
  {
   "cell_type": "code",
   "execution_count": 10,
   "metadata": {
    "ExecuteTime": {
     "end_time": "2018-01-31T01:45:23.597410Z",
     "start_time": "2018-01-31T01:45:23.587908Z"
    }
   },
   "outputs": [],
   "source": [
    "models = {\n",
    "    'SVR': svm.SVR(),\n",
    "    'SVR_POLY': svm.SVR(kernel='poly'),\n",
    "    'LinearRegression': LinearRegression(n_jobs=-1)\n",
    "}"
   ]
  },
  {
   "cell_type": "code",
   "execution_count": 11,
   "metadata": {
    "ExecuteTime": {
     "end_time": "2018-01-31T01:45:24.967085Z",
     "start_time": "2018-01-31T01:45:23.599916Z"
    }
   },
   "outputs": [
    {
     "name": "stdout",
     "output_type": "stream",
     "text": [
      "SVR: 0.813. Duration: 0.581s\n",
      "SVR_POLY: 0.645. Duration: 0.511s\n",
      "LinearRegression: 0.978. Duration: 0.253s\n"
     ]
    }
   ],
   "source": [
    "for model, clf in models.items():\n",
    "    start = time.time()\n",
    "    clf.fit(X_train, y_train)\n",
    "    print(\n",
    "        f'{model}: {round(clf.score(X_test, y_test), 3)}. '\n",
    "        f'Duration: {round(time.time() - start, 3)}s'\n",
    "    )"
   ]
  },
  {
   "cell_type": "code",
   "execution_count": 12,
   "metadata": {
    "ExecuteTime": {
     "end_time": "2018-01-31T01:45:25.104102Z",
     "start_time": "2018-01-31T01:45:24.974586Z"
    }
   },
   "outputs": [],
   "source": [
    "df['Forecast'] = np.nan\n",
    "last_date = df.iloc[-1].name\n",
    "last_unix = last_date.timestamp()\n",
    "one_day = 86400\n",
    "next_unix = last_unix + one_day"
   ]
  },
  {
   "cell_type": "code",
   "execution_count": 13,
   "metadata": {
    "ExecuteTime": {
     "end_time": "2018-01-31T01:45:25.120605Z",
     "start_time": "2018-01-31T01:45:25.108602Z"
    }
   },
   "outputs": [],
   "source": [
    "clf = LinearRegression()\n",
    "clf.fit(X_train, y_train)\n",
    "forecast_set = clf.predict(X_lately)"
   ]
  },
  {
   "cell_type": "code",
   "execution_count": 14,
   "metadata": {
    "ExecuteTime": {
     "end_time": "2018-01-31T01:45:25.234618Z",
     "start_time": "2018-01-31T01:45:25.125604Z"
    }
   },
   "outputs": [],
   "source": [
    "for i in forecast_set:\n",
    "    next_date = datetime.datetime.fromtimestamp(next_unix)\n",
    "    next_unix += one_day\n",
    "    df.loc[next_date] = [np.nan for _ in range(len(df.columns)-1)] + [i]"
   ]
  },
  {
   "cell_type": "code",
   "execution_count": 15,
   "metadata": {
    "ExecuteTime": {
     "end_time": "2018-01-31T01:45:25.520154Z",
     "start_time": "2018-01-31T01:45:25.237619Z"
    }
   },
   "outputs": [
    {
     "data": {
      "image/png": "[encoded data removed]",
      "text/plain": [
       "<matplotlib.figure.Figure at 0x291f616a2e8>"
      ]
     },
     "metadata": {},
     "output_type": "display_data"
    }
   ],
   "source": [
    "plt.figure(figsize=(15, 4))\n",
    "plt.plot(df['Adj. Close'])\n",
    "plt.plot(df['Forecast'])\n",
    "plt.xlabel('Date')\n",
    "plt.ylabel('Price')\n",
    "plt.tight_layout()\n",
    "plt.show()"
   ]
  },
  {
   "cell_type": "markdown",
   "metadata": {},
   "source": [
    "## Linear Regression Hand Crafted"
   ]
  },
  {
   "cell_type": "markdown",
   "metadata": {},
   "source": [
    "### Best Fit Line"
   ]
  },
  {
   "cell_type": "markdown",
   "metadata": {},
   "source": [
    "$$ y = mx + b $$\n",
    "$$ b = \\bar{y} - m\\bar{x} $$\n",
    "\n",
    "$$ and $$\n",
    "\n",
    "$$ m = \\frac{\\bar{x}\\bar{y}-\\bar{xy}}{(\\bar{x})^2-\\bar{x^2}} $$\n",
    "\n",
    "$$ or $$\n",
    "\n",
    "$$ m = \\frac{\\sum{(x-\\bar{x})(y-\\bar{y})}}{\\sum{(x-\\bar{x})^2}} $$"
   ]
  },
  {
   "cell_type": "code",
   "execution_count": 16,
   "metadata": {
    "ExecuteTime": {
     "end_time": "2018-01-31T01:45:25.529655Z",
     "start_time": "2018-01-31T01:45:25.523655Z"
    }
   },
   "outputs": [],
   "source": [
    "# # 23 µs ± 1.98 µs\n",
    "# x_mean = xs.mean()\n",
    "# y_mean = ys.mean()\n",
    "\n",
    "# # 62 µs ± 935 ns # (xs.mean()*ys.mean() - (xs*ys).mean()) / (xs.mean() ** 2 - (xs ** 2).mean()) \n",
    "# # 28.5 µs ± 371 ns # (x_mean*y_mean - (xs*ys).mean()) / (x_mean ** 2 - (xs ** 2).mean())\n",
    "# # 59.9 µs ± 1.11 µs # ((xs - xs.mean()) * (ys - ys.mean())).sum() / ((xs - xs.mean())**2).sum()\n",
    "# # 22.5 µs ± 406 ns # ((xs - x_mean) * (ys - y_mean)).sum() / ((xs - x_mean)**2).sum()"
   ]
  },
  {
   "cell_type": "code",
   "execution_count": 17,
   "metadata": {
    "ExecuteTime": {
     "end_time": "2018-01-31T01:45:25.550658Z",
     "start_time": "2018-01-31T01:45:25.532656Z"
    }
   },
   "outputs": [],
   "source": [
    "import common as cn"
   ]
  },
  {
   "cell_type": "code",
   "execution_count": 18,
   "metadata": {
    "ExecuteTime": {
     "end_time": "2018-01-31T01:45:25.560660Z",
     "start_time": "2018-01-31T01:45:25.553659Z"
    }
   },
   "outputs": [
    {
     "data": {
      "text/plain": [
       "<function common.create_dataset>"
      ]
     },
     "execution_count": 18,
     "metadata": {},
     "output_type": "execute_result"
    }
   ],
   "source": [
    "cn.create_dataset"
   ]
  },
  {
   "cell_type": "code",
   "execution_count": 19,
   "metadata": {
    "ExecuteTime": {
     "end_time": "2018-01-31T01:45:25.579663Z",
     "start_time": "2018-01-31T01:45:25.563660Z"
    }
   },
   "outputs": [],
   "source": [
    "def create_dataset(number, variance, step=2, correlation=1, offset=(0, 1)):\n",
    "    x_off, y_off = offset\n",
    "    xs = np.arange(x_off, number + x_off)\n",
    "    ys = np.arange(y_off, number*step + y_off, step)\n",
    "    if correlation == -1:\n",
    "        ys = ys[::-1]\n",
    "    ys += np.random.randint(-variance, variance, size=number)\n",
    "    return xs, ys"
   ]
  },
  {
   "cell_type": "code",
   "execution_count": 20,
   "metadata": {
    "ExecuteTime": {
     "end_time": "2018-01-31T01:45:25.596664Z",
     "start_time": "2018-01-31T01:45:25.583662Z"
    }
   },
   "outputs": [],
   "source": [
    "def best_fit_slope(xs, ys):\n",
    "    x_mean = xs.mean()\n",
    "    y_mean = ys.mean()\n",
    "    m = ((xs - x_mean) * (ys - y_mean)).sum() / ((xs - x_mean)**2).sum()\n",
    "    b = y_mean - m * x_mean\n",
    "    return m, b"
   ]
  },
  {
   "cell_type": "code",
   "execution_count": 21,
   "metadata": {
    "ExecuteTime": {
     "end_time": "2018-01-31T01:45:25.611166Z",
     "start_time": "2018-01-31T01:45:25.599664Z"
    }
   },
   "outputs": [],
   "source": [
    "def squared_error(y_initial, y_final):\n",
    "    return ((y_initial - y_final) ** 2).sum()"
   ]
  },
  {
   "cell_type": "code",
   "execution_count": 22,
   "metadata": {
    "ExecuteTime": {
     "end_time": "2018-01-31T01:45:25.623167Z",
     "start_time": "2018-01-31T01:45:25.614166Z"
    }
   },
   "outputs": [],
   "source": [
    "def coeff_of_determination(y_initial, y_final):\n",
    "    ser = squared_error(y_initial, y_final)\n",
    "    sem = squared_error(y_initial, y_initial.mean())\n",
    "    return 1 - (ser / sem)"
   ]
  },
  {
   "cell_type": "code",
   "execution_count": 23,
   "metadata": {
    "ExecuteTime": {
     "end_time": "2018-01-31T01:45:25.636669Z",
     "start_time": "2018-01-31T01:45:25.626169Z"
    }
   },
   "outputs": [],
   "source": [
    "def calc_y(x, m=None, b=None):\n",
    "    if None in [m, b]:\n",
    "        m, b = best_fit_slope(xs, ys)\n",
    "    return m * x + b"
   ]
  },
  {
   "cell_type": "code",
   "execution_count": 24,
   "metadata": {
    "ExecuteTime": {
     "end_time": "2018-01-31T01:45:25.655172Z",
     "start_time": "2018-01-31T01:45:25.641171Z"
    }
   },
   "outputs": [],
   "source": [
    "def add_point(target):\n",
    "    m, b = best_fit_slope(scat.x, scat.y)\n",
    "    y_hat.x = scat.x\n",
    "    y_hat.y = calc_y(scat.x, m, b)"
   ]
  },
  {
   "cell_type": "code",
   "execution_count": 25,
   "metadata": {
    "ExecuteTime": {
     "end_time": "2018-01-31T01:45:25.670673Z",
     "start_time": "2018-01-31T01:45:25.658672Z"
    }
   },
   "outputs": [
    {
     "data": {
      "text/plain": [
       "0.809597727712705"
      ]
     },
     "execution_count": 25,
     "metadata": {},
     "output_type": "execute_result"
    }
   ],
   "source": [
    "xs, ys = cn.create_dataset(40,20,2, 1, offset=(10,100))\n",
    "coeff_of_determination(ys, calc_y(xs))"
   ]
  },
  {
   "cell_type": "code",
   "execution_count": 26,
   "metadata": {
    "ExecuteTime": {
     "end_time": "2018-01-31T01:45:25.783688Z",
     "start_time": "2018-01-31T01:45:25.674175Z"
    },
    "scrolled": false
   },
   "outputs": [
    {
     "data": {
      "application/vnd.jupyter.widget-view+json": {
       "model_id": "50756d8198474271b7c4eaf3a6d579fc",
       "version_major": 2,
       "version_minor": 0
      },
      "text/html": [
       "<p>Failed to display Jupyter Widget of type <code>VBox</code>.</p>\n",
       "<p>\n",
       "  If you're reading this message in the Jupyter Notebook or JupyterLab Notebook, it may mean\n",
       "  that the widgets JavaScript is still loading. If this message persists, it\n",
       "  likely means that the widgets JavaScript library is either not installed or\n",
       "  not enabled. See the <a href=\"https://ipywidgets.readthedocs.io/en/stable/user_install.html\">Jupyter\n",
       "  Widgets Documentation</a> for setup instructions.\n",
       "</p>\n",
       "<p>\n",
       "  If you're reading this message in another frontend (for example, a static\n",
       "  rendering on GitHub or <a href=\"https://nbviewer.jupyter.org/\">NBViewer</a>),\n",
       "  it may mean that your frontend doesn't currently support widgets.\n",
       "</p>\n"
      ],
      "text/plain": [
       "VBox(children=(Figure(animation_duration=500, axes=[Axis(scale=LinearScale()), Axis(orientation='vertical', scale=LinearScale())], fig_margin={'top': 60, 'bottom': 60, 'left': 60, 'right': 60}, layout=Layout(min_width='125px'), marks=[Scatter(colors=['steelblue'], enable_move=True, interactions={'click': 'add'}, scales={'x': LinearScale(), 'y': LinearScale()}, scales_metadata={'x': {'orientation': 'horizontal', 'dimension': 'x'}, 'y': {'orientation': 'vertical', 'dimension': 'y'}, 'color': {'dimension': 'color'}, 'size': {'dimension': 'size'}, 'opacity': {'dimension': 'opacity'}, 'rotation': {'dimension': 'rotation'}, 'skew': {'dimension': 'skew'}}, tooltip_style={'opacity': 0.9}, x=array([10, 11, 12, 13, 14, 15, 16, 17, 18, 19, 20, 21, 22, 23, 24, 25, 26,\n",
       "       27, 28, 29, 30, 31, 32, 33, 34, 35, 36, 37, 38, 39, 40, 41, 42, 43,\n",
       "       44, 45, 46, 47, 48, 49]), y=array([ 80, 117,  88,  89, 123,  98, 115, 102, 122,  98, 102, 115, 117,\n",
       "       132, 136, 111, 136, 129, 146, 136, 157, 140, 152, 158, 128, 156,\n",
       "       137, 163, 167, 144, 164, 166, 168, 167, 186, 161, 153, 161, 190, 164])), Lines(colors=['#1f77b4', '#ff7f0e', '#2ca02c', '#d62728', '#9467bd', '#8c564b', '#e377c2', '#7f7f7f', '#bcbd22', '#17becf'], interactions={'hover': 'tooltip'}, scales={'x': LinearScale(), 'y': LinearScale()}, scales_metadata={'x': {'orientation': 'horizontal', 'dimension': 'x'}, 'y': {'orientation': 'vertical', 'dimension': 'y'}, 'color': {'dimension': 'color'}}, tooltip_style={'opacity': 0.9}, x=array([10, 11, 12, 13, 14, 15, 16, 17, 18, 19, 20, 21, 22, 23, 24, 25, 26,\n",
       "       27, 28, 29, 30, 31, 32, 33, 34, 35, 36, 37, 38, 39, 40, 41, 42, 43,\n",
       "       44, 45, 46, 47, 48, 49]), y=array([  94.94512195,   97.09409006,   99.24305816,  101.39202627,\n",
       "        103.54099437,  105.68996248,  107.83893058,  109.98789869,\n",
       "        112.13686679,  114.2858349 ,  116.434803  ,  118.58377111,\n",
       "        120.73273921,  122.88170732,  125.03067542,  127.17964353,\n",
       "        129.32861163,  131.47757974,  133.62654784,  135.77551595,\n",
       "        137.92448405,  140.07345216,  142.22242026,  144.37138837,\n",
       "        146.52035647,  148.66932458,  150.81829268,  152.96726079,\n",
       "        155.11622889,  157.265197  ,  159.4141651 ,  161.56313321,\n",
       "        163.71210131,  165.86106942,  168.01003752,  170.15900563,\n",
       "        172.30797373,  174.45694184,  176.60590994,  178.75487805]))], scale_x=LinearScale(allow_padding=False, max=1.0, min=0.0), scale_y=LinearScale(allow_padding=False, max=1.0, min=0.0), title='Regression'), Toolbar(figure=Figure(animation_duration=500, axes=[Axis(scale=LinearScale()), Axis(orientation='vertical', scale=LinearScale())], fig_margin={'top': 60, 'bottom': 60, 'left': 60, 'right': 60}, layout=Layout(min_width='125px'), marks=[Scatter(colors=['steelblue'], enable_move=True, interactions={'click': 'add'}, scales={'x': LinearScale(), 'y': LinearScale()}, scales_metadata={'x': {'orientation': 'horizontal', 'dimension': 'x'}, 'y': {'orientation': 'vertical', 'dimension': 'y'}, 'color': {'dimension': 'color'}, 'size': {'dimension': 'size'}, 'opacity': {'dimension': 'opacity'}, 'rotation': {'dimension': 'rotation'}, 'skew': {'dimension': 'skew'}}, tooltip_style={'opacity': 0.9}, x=array([10, 11, 12, 13, 14, 15, 16, 17, 18, 19, 20, 21, 22, 23, 24, 25, 26,\n",
       "       27, 28, 29, 30, 31, 32, 33, 34, 35, 36, 37, 38, 39, 40, 41, 42, 43,\n",
       "       44, 45, 46, 47, 48, 49]), y=array([ 80, 117,  88,  89, 123,  98, 115, 102, 122,  98, 102, 115, 117,\n",
       "       132, 136, 111, 136, 129, 146, 136, 157, 140, 152, 158, 128, 156,\n",
       "       137, 163, 167, 144, 164, 166, 168, 167, 186, 161, 153, 161, 190, 164])), Lines(colors=['#1f77b4', '#ff7f0e', '#2ca02c', '#d62728', '#9467bd', '#8c564b', '#e377c2', '#7f7f7f', '#bcbd22', '#17becf'], interactions={'hover': 'tooltip'}, scales={'x': LinearScale(), 'y': LinearScale()}, scales_metadata={'x': {'orientation': 'horizontal', 'dimension': 'x'}, 'y': {'orientation': 'vertical', 'dimension': 'y'}, 'color': {'dimension': 'color'}}, tooltip_style={'opacity': 0.9}, x=array([10, 11, 12, 13, 14, 15, 16, 17, 18, 19, 20, 21, 22, 23, 24, 25, 26,\n",
       "       27, 28, 29, 30, 31, 32, 33, 34, 35, 36, 37, 38, 39, 40, 41, 42, 43,\n",
       "       44, 45, 46, 47, 48, 49]), y=array([  94.94512195,   97.09409006,   99.24305816,  101.39202627,\n",
       "        103.54099437,  105.68996248,  107.83893058,  109.98789869,\n",
       "        112.13686679,  114.2858349 ,  116.434803  ,  118.58377111,\n",
       "        120.73273921,  122.88170732,  125.03067542,  127.17964353,\n",
       "        129.32861163,  131.47757974,  133.62654784,  135.77551595,\n",
       "        137.92448405,  140.07345216,  142.22242026,  144.37138837,\n",
       "        146.52035647,  148.66932458,  150.81829268,  152.96726079,\n",
       "        155.11622889,  157.265197  ,  159.4141651 ,  161.56313321,\n",
       "        163.71210131,  165.86106942,  168.01003752,  170.15900563,\n",
       "        172.30797373,  174.45694184,  176.60590994,  178.75487805]))], scale_x=LinearScale(allow_padding=False, max=1.0, min=0.0), scale_y=LinearScale(allow_padding=False, max=1.0, min=0.0), title='Regression'))))"
      ]
     },
     "metadata": {},
     "output_type": "display_data"
    }
   ],
   "source": [
    "bplt.clear() # BQplot code\n",
    "figure = bplt.figure(title='Regression', animation_duration=500) # BQplot code\n",
    "scat = bplt.scatter(xs, ys, enable_move=True, interactions={'click': 'add'} )\n",
    "scat.observe(add_point, names=['x'])\n",
    "y_hat = bplt.plot(xs, calc_y(xs))\n",
    "bplt.show()"
   ]
  },
  {
   "cell_type": "code",
   "execution_count": null,
   "metadata": {},
   "outputs": [],
   "source": []
  }
 ],
 "metadata": {
  "kernelspec": {
   "display_name": "Python 3",
   "language": "python",
   "name": "python3"
  },
  "language_info": {
   "codemirror_mode": {
    "name": "ipython",
    "version": 3
   },
   "file_extension": ".py",
   "mimetype": "text/x-python",
   "name": "python",
   "nbconvert_exporter": "python",
   "pygments_lexer": "ipython3",
   "version": "3.6.4"
  }
 },
 "nbformat": 4,
 "nbformat_minor": 2
}
