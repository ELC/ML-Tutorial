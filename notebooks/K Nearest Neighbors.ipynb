{
 "cells": [
  {
   "cell_type": "markdown",
   "metadata": {},
   "source": [
    "## Initialization"
   ]
  },
  {
   "cell_type": "code",
   "execution_count": 1,
   "metadata": {
    "ExecuteTime": {
     "end_time": "2018-01-30T20:24:00.546109Z",
     "start_time": "2018-01-30T20:23:52.278531Z"
    }
   },
   "outputs": [],
   "source": [
    "import pandas as pd\n",
    "import numpy as np\n",
    "import matplotlib.pyplot as plt\n",
    "from sklearn import preprocessing, model_selection, neighbors\n",
    "from bqplot import pyplot as bplt\n",
    "import random\n",
    "from collections import Counter, defaultdict\n",
    "%matplotlib inline"
   ]
  },
  {
   "cell_type": "markdown",
   "metadata": {},
   "source": [
    "## Loading Data"
   ]
  },
  {
   "cell_type": "code",
   "execution_count": 2,
   "metadata": {
    "ExecuteTime": {
     "end_time": "2018-01-30T20:24:00.643119Z",
     "start_time": "2018-01-30T20:24:00.550609Z"
    }
   },
   "outputs": [],
   "source": [
    "df = pd.read_csv('../data/breast-cancer-wisconsin.data.txt')\n",
    "df = df.replace('?', -99999)\n",
    "df = df.drop(['id'], 1)"
   ]
  },
  {
   "cell_type": "code",
   "execution_count": 3,
   "metadata": {
    "ExecuteTime": {
     "end_time": "2018-01-30T20:24:00.656121Z",
     "start_time": "2018-01-30T20:24:00.647121Z"
    }
   },
   "outputs": [],
   "source": [
    "X = np.array(df.drop(['class'], 1))\n",
    "y = np.array(df['class'])"
   ]
  },
  {
   "cell_type": "markdown",
   "metadata": {
    "ExecuteTime": {
     "end_time": "2018-01-30T18:42:53.775009Z",
     "start_time": "2018-01-30T18:42:53.770008Z"
    }
   },
   "source": [
    "## Split Data"
   ]
  },
  {
   "cell_type": "code",
   "execution_count": 4,
   "metadata": {
    "ExecuteTime": {
     "end_time": "2018-01-30T20:24:00.672623Z",
     "start_time": "2018-01-30T20:24:00.659123Z"
    }
   },
   "outputs": [],
   "source": [
    "X_train, X_test, y_train, y_test = model_selection.train_test_split(X, y, test_size=0.2)"
   ]
  },
  {
   "cell_type": "markdown",
   "metadata": {},
   "source": [
    "## Train the Classifier"
   ]
  },
  {
   "cell_type": "code",
   "execution_count": 5,
   "metadata": {
    "ExecuteTime": {
     "end_time": "2018-01-30T20:24:00.693127Z",
     "start_time": "2018-01-30T20:24:00.675624Z"
    }
   },
   "outputs": [],
   "source": [
    "clf = neighbors.KNeighborsClassifier()\n",
    "clf.fit(X_train, y_train);"
   ]
  },
  {
   "cell_type": "markdown",
   "metadata": {},
   "source": [
    "## Get Accuracy"
   ]
  },
  {
   "cell_type": "code",
   "execution_count": 6,
   "metadata": {
    "ExecuteTime": {
     "end_time": "2018-01-30T20:24:00.715629Z",
     "start_time": "2018-01-30T20:24:00.696627Z"
    }
   },
   "outputs": [
    {
     "data": {
      "text/plain": [
       "0.9642857142857143"
      ]
     },
     "execution_count": 6,
     "metadata": {},
     "output_type": "execute_result"
    }
   ],
   "source": [
    "clf.score(X_test, y_test)"
   ]
  },
  {
   "cell_type": "markdown",
   "metadata": {},
   "source": [
    "## Predict"
   ]
  },
  {
   "cell_type": "code",
   "execution_count": 7,
   "metadata": {
    "ExecuteTime": {
     "end_time": "2018-01-30T20:24:00.729632Z",
     "start_time": "2018-01-30T20:24:00.718630Z"
    }
   },
   "outputs": [
    {
     "data": {
      "text/plain": [
       "4"
      ]
     },
     "execution_count": 7,
     "metadata": {},
     "output_type": "execute_result"
    }
   ],
   "source": [
    "example = np.array([10,10,1,1,1,2,3,2,1]).reshape(1, -1)\n",
    "clf.predict(example)[0]"
   ]
  },
  {
   "cell_type": "markdown",
   "metadata": {},
   "source": [
    "## Manual KNN on generated dataset"
   ]
  },
  {
   "cell_type": "markdown",
   "metadata": {},
   "source": [
    "## Euclidean Distance"
   ]
  },
  {
   "cell_type": "code",
   "execution_count": 8,
   "metadata": {
    "ExecuteTime": {
     "end_time": "2018-01-30T20:24:00.748134Z",
     "start_time": "2018-01-30T20:24:00.732631Z"
    }
   },
   "outputs": [],
   "source": [
    "def euclidean_distance(p1, p2):\n",
    "    dim = len(p1)\n",
    "    radical = sum((c1 - c2)**2 for c1, c2 in zip(p1, p2))\n",
    "    return (radical)**(1/dim)\n",
    "\n",
    "def euclidean_distance_numpy(p1, p2):\n",
    "    p1 = np.array(p1)\n",
    "    p2 = np.array(p2)\n",
    "    dim = len(p1)\n",
    "    return ((p1 - p2)**2).sum()**(1/dim)"
   ]
  },
  {
   "cell_type": "code",
   "execution_count": 132,
   "metadata": {
    "ExecuteTime": {
     "end_time": "2018-01-30T21:01:13.965863Z",
     "start_time": "2018-01-30T21:01:13.947861Z"
    }
   },
   "outputs": [],
   "source": [
    "def k_neares_neighbors(data, predict, k=3):\n",
    "    if len(data) >= k:\n",
    "        print('You may change k')\n",
    "    distances = []\n",
    "    for group in data:\n",
    "        for features in data[group]:\n",
    "            distance = np.linalg.norm(np.array(features) - np.array(predict))\n",
    "            distances.append([distance, group])\n",
    "    votes = [i[1] for i in sorted(distances)[:k]]\n",
    "    vote_result = Counter(votes).most_common(1)[0][0]\n",
    "    \n",
    "    return vote_result        "
   ]
  },
  {
   "cell_type": "markdown",
   "metadata": {},
   "source": [
    "## Manual datasets"
   ]
  },
  {
   "cell_type": "code",
   "execution_count": 133,
   "metadata": {
    "ExecuteTime": {
     "end_time": "2018-01-30T21:01:14.249879Z",
     "start_time": "2018-01-30T21:01:14.244878Z"
    }
   },
   "outputs": [],
   "source": [
    "dataset = {\n",
    "    'black':[[1, 2],[2,3],[3,1]],\n",
    "    'green':[[6,5],[7,7],[8,6]]\n",
    "}"
   ]
  },
  {
   "cell_type": "markdown",
   "metadata": {},
   "source": [
    "## Interactive Plot"
   ]
  },
  {
   "cell_type": "code",
   "execution_count": 137,
   "metadata": {
    "ExecuteTime": {
     "end_time": "2018-01-30T21:01:46.454723Z",
     "start_time": "2018-01-30T21:01:46.447727Z"
    }
   },
   "outputs": [],
   "source": [
    "def add_point(target):\n",
    "    x, y = scat.x[-1], scat.y[-1]\n",
    "    class_ = k_neares_neighbors(dataset_, [x, y])\n",
    "    dataset_[class_].append([x, y])\n",
    "    bplt.scatter([x], [y], enable_move=True, colors=[class_])"
   ]
  },
  {
   "cell_type": "code",
   "execution_count": 141,
   "metadata": {
    "ExecuteTime": {
     "end_time": "2018-01-30T21:02:17.517507Z",
     "start_time": "2018-01-30T21:02:17.380494Z"
    }
   },
   "outputs": [
    {
     "data": {
      "application/vnd.jupyter.widget-view+json": {
       "model_id": "c0af4402eaa044699a1d987627679b12",
       "version_major": 2,
       "version_minor": 0
      },
      "text/html": [
       "<p>Failed to display Jupyter Widget of type <code>VBox</code>.</p>\n",
       "<p>\n",
       "  If you're reading this message in the Jupyter Notebook or JupyterLab Notebook, it may mean\n",
       "  that the widgets JavaScript is still loading. If this message persists, it\n",
       "  likely means that the widgets JavaScript library is either not installed or\n",
       "  not enabled. See the <a href=\"https://ipywidgets.readthedocs.io/en/stable/user_install.html\">Jupyter\n",
       "  Widgets Documentation</a> for setup instructions.\n",
       "</p>\n",
       "<p>\n",
       "  If you're reading this message in another frontend (for example, a static\n",
       "  rendering on GitHub or <a href=\"https://nbviewer.jupyter.org/\">NBViewer</a>),\n",
       "  it may mean that your frontend doesn't currently support widgets.\n",
       "</p>\n"
      ],
      "text/plain": [
       "VBox(children=(Figure(animation_duration=500, axes=[Axis(scale=LinearScale()), Axis(orientation='vertical', scale=LinearScale())], fig_margin={'top': 60, 'bottom': 60, 'left': 60, 'right': 60}, layout=Layout(min_width='125px'), marks=[Scatter(colors=['white'], interactions={'click': 'add'}, scales={'x': LinearScale(), 'y': LinearScale()}, scales_metadata={'x': {'orientation': 'horizontal', 'dimension': 'x'}, 'y': {'orientation': 'vertical', 'dimension': 'y'}, 'color': {'dimension': 'color'}, 'size': {'dimension': 'size'}, 'opacity': {'dimension': 'opacity'}, 'rotation': {'dimension': 'rotation'}, 'skew': {'dimension': 'skew'}}, tooltip_style={'opacity': 0.9}, x=array([0]), y=array([0])), Scatter(colors=['black'], interactions={'hover': 'tooltip'}, scales={'x': LinearScale(), 'y': LinearScale()}, scales_metadata={'x': {'orientation': 'horizontal', 'dimension': 'x'}, 'y': {'orientation': 'vertical', 'dimension': 'y'}, 'color': {'dimension': 'color'}, 'size': {'dimension': 'size'}, 'opacity': {'dimension': 'opacity'}, 'rotation': {'dimension': 'rotation'}, 'skew': {'dimension': 'skew'}}, tooltip_style={'opacity': 0.9}, x=array([ 1.        ,  2.        ,  3.        ,  1.95808824,  2.19338235,\n",
       "        2.93063725,  2.58553922,  2.60122549,  4.18553922,  3.55808824,\n",
       "        3.90318627,  4.42083333]), y=array([ 2.        ,  3.        ,  1.        ,  1.66698042,  2.23625753,\n",
       "        1.30854669,  1.3717997 ,  1.73023343,  1.75131777,  1.26637801,\n",
       "        2.17300452,  2.63685994])), Scatter(colors=['green'], interactions={'hover': 'tooltip'}, scales={'x': LinearScale(), 'y': LinearScale()}, scales_metadata={'x': {'orientation': 'horizontal', 'dimension': 'x'}, 'y': {'orientation': 'vertical', 'dimension': 'y'}, 'color': {'dimension': 'color'}, 'size': {'dimension': 'size'}, 'opacity': {'dimension': 'opacity'}, 'rotation': {'dimension': 'rotation'}, 'skew': {'dimension': 'skew'}}, tooltip_style={'opacity': 0.9}, x=array([ 6.        ,  7.        ,  8.        ,  6.94632353,  6.2875    ,\n",
       "        6.30318627,  6.02083333,  5.31495098,  4.78161765,  4.93848039,\n",
       "        5.3620098 ,  4.60906863,  4.70318627,  5.5502451 ,  5.03259804,\n",
       "        4.31102941,  3.80906863]), y=array([ 5.        ,  7.        ,  6.        ,  5.67300452,  4.72420934,\n",
       "        4.30252259,  3.92300452,  3.16396837,  2.46818524,  3.4591491 ,\n",
       "        3.71216114,  3.48023343,  3.39589608,  5.44107681,  5.92601657,\n",
       "        5.7784262 ,  5.33565512]))], scale_x=LinearScale(allow_padding=False, max=1.0, min=0.0), scale_y=LinearScale(allow_padding=False, max=1.0, min=0.0), title='K nearest neighbors - Click to add points'), Toolbar(figure=Figure(animation_duration=500, axes=[Axis(scale=LinearScale()), Axis(orientation='vertical', scale=LinearScale())], fig_margin={'top': 60, 'bottom': 60, 'left': 60, 'right': 60}, layout=Layout(min_width='125px'), marks=[Scatter(colors=['white'], interactions={'click': 'add'}, scales={'x': LinearScale(), 'y': LinearScale()}, scales_metadata={'x': {'orientation': 'horizontal', 'dimension': 'x'}, 'y': {'orientation': 'vertical', 'dimension': 'y'}, 'color': {'dimension': 'color'}, 'size': {'dimension': 'size'}, 'opacity': {'dimension': 'opacity'}, 'rotation': {'dimension': 'rotation'}, 'skew': {'dimension': 'skew'}}, tooltip_style={'opacity': 0.9}, x=array([0]), y=array([0])), Scatter(colors=['black'], interactions={'hover': 'tooltip'}, scales={'x': LinearScale(), 'y': LinearScale()}, scales_metadata={'x': {'orientation': 'horizontal', 'dimension': 'x'}, 'y': {'orientation': 'vertical', 'dimension': 'y'}, 'color': {'dimension': 'color'}, 'size': {'dimension': 'size'}, 'opacity': {'dimension': 'opacity'}, 'rotation': {'dimension': 'rotation'}, 'skew': {'dimension': 'skew'}}, tooltip_style={'opacity': 0.9}, x=array([ 1.        ,  2.        ,  3.        ,  1.95808824,  2.19338235,\n",
       "        2.93063725,  2.58553922,  2.60122549,  4.18553922,  3.55808824,\n",
       "        3.90318627,  4.42083333]), y=array([ 2.        ,  3.        ,  1.        ,  1.66698042,  2.23625753,\n",
       "        1.30854669,  1.3717997 ,  1.73023343,  1.75131777,  1.26637801,\n",
       "        2.17300452,  2.63685994])), Scatter(colors=['green'], interactions={'hover': 'tooltip'}, scales={'x': LinearScale(), 'y': LinearScale()}, scales_metadata={'x': {'orientation': 'horizontal', 'dimension': 'x'}, 'y': {'orientation': 'vertical', 'dimension': 'y'}, 'color': {'dimension': 'color'}, 'size': {'dimension': 'size'}, 'opacity': {'dimension': 'opacity'}, 'rotation': {'dimension': 'rotation'}, 'skew': {'dimension': 'skew'}}, tooltip_style={'opacity': 0.9}, x=array([ 6.        ,  7.        ,  8.        ,  6.94632353,  6.2875    ,\n",
       "        6.30318627,  6.02083333,  5.31495098,  4.78161765,  4.93848039,\n",
       "        5.3620098 ,  4.60906863,  4.70318627,  5.5502451 ,  5.03259804,\n",
       "        4.31102941,  3.80906863]), y=array([ 5.        ,  7.        ,  6.        ,  5.67300452,  4.72420934,\n",
       "        4.30252259,  3.92300452,  3.16396837,  2.46818524,  3.4591491 ,\n",
       "        3.71216114,  3.48023343,  3.39589608,  5.44107681,  5.92601657,\n",
       "        5.7784262 ,  5.33565512]))], scale_x=LinearScale(allow_padding=False, max=1.0, min=0.0), scale_y=LinearScale(allow_padding=False, max=1.0, min=0.0), title='K nearest neighbors - Click to add points'))))"
      ]
     },
     "metadata": {},
     "output_type": "display_data"
    }
   ],
   "source": [
    "bplt.clear() # BQplot code\n",
    "figure = bplt.figure(title='K nearest neighbors - Click to add points', animation_duration=500) # BQplot code\n",
    "dataset_ = dataset.copy()\n",
    "scat = bplt.scatter([0], [0], interactions={'click': 'add'}, colors=['white'])\n",
    "for color in dataset_:\n",
    "    xs, ys = zip(*dataset_[color])\n",
    "    bplt.scatter(xs, ys, colors=[color])\n",
    "scat.observe(add_point, names=['x'])\n",
    "bplt.show()"
   ]
  },
  {
   "cell_type": "markdown",
   "metadata": {},
   "source": [
    "## Manual KNN on Breast Cancer Dataset"
   ]
  },
  {
   "cell_type": "code",
   "execution_count": 15,
   "metadata": {
    "ExecuteTime": {
     "end_time": "2018-01-30T20:24:01.168692Z",
     "start_time": "2018-01-30T20:24:01.153684Z"
    }
   },
   "outputs": [],
   "source": [
    "df = pd.read_csv('../data/breast-cancer-wisconsin.data.txt')\n",
    "df = df.replace('?', -99999)\n",
    "df = df.drop(['id'], 1)"
   ]
  },
  {
   "cell_type": "markdown",
   "metadata": {},
   "source": [
    "## Manual Split train test"
   ]
  },
  {
   "cell_type": "code",
   "execution_count": 52,
   "metadata": {
    "ExecuteTime": {
     "end_time": "2018-01-30T20:43:53.783295Z",
     "start_time": "2018-01-30T20:43:53.775294Z"
    }
   },
   "outputs": [],
   "source": [
    "full_data = df.astype(float).values.tolist()\n",
    "random.shuffle(full_data)"
   ]
  },
  {
   "cell_type": "code",
   "execution_count": 53,
   "metadata": {
    "ExecuteTime": {
     "end_time": "2018-01-30T20:43:53.931303Z",
     "start_time": "2018-01-30T20:43:53.923303Z"
    }
   },
   "outputs": [],
   "source": [
    "def split_features_labels(data):\n",
    "    set_ = defaultdict(list)\n",
    "    for value in data:\n",
    "        *features, label = value\n",
    "        set_[label].append(features)\n",
    "    return set_"
   ]
  },
  {
   "cell_type": "code",
   "execution_count": 54,
   "metadata": {
    "ExecuteTime": {
     "end_time": "2018-01-30T20:43:54.078311Z",
     "start_time": "2018-01-30T20:43:54.068310Z"
    }
   },
   "outputs": [],
   "source": [
    "test_size = 0.2\n",
    "limit = -int(len(full_data)*test_size)\n",
    "train_data = full_data[:limit]\n",
    "test_data = full_data[limit:]\n",
    "train_set = split_features_labels(train_data)\n",
    "test_set = split_features_labels(test_data)"
   ]
  },
  {
   "cell_type": "markdown",
   "metadata": {},
   "source": [
    "## Manual Score"
   ]
  },
  {
   "cell_type": "code",
   "execution_count": 55,
   "metadata": {
    "ExecuteTime": {
     "end_time": "2018-01-30T20:43:55.616404Z",
     "start_time": "2018-01-30T20:43:54.339331Z"
    }
   },
   "outputs": [
    {
     "data": {
      "text/plain": [
       "0.9640287769784173"
      ]
     },
     "execution_count": 55,
     "metadata": {},
     "output_type": "execute_result"
    }
   ],
   "source": [
    "correct = 0\n",
    "for group in test_set:\n",
    "    for data in test_set[group]:\n",
    "        vote = k_neares_neighbors(train_set, data, k=5)\n",
    "        correct += 1 if group == vote else 0\n",
    "correct / len(test_data)"
   ]
  }
 ],
 "metadata": {
  "kernelspec": {
   "display_name": "Python 3",
   "language": "python",
   "name": "python3"
  },
  "language_info": {
   "codemirror_mode": {
    "name": "ipython",
    "version": 3
   },
   "file_extension": ".py",
   "mimetype": "text/x-python",
   "name": "python",
   "nbconvert_exporter": "python",
   "pygments_lexer": "ipython3",
   "version": "3.6.4"
  }
 },
 "nbformat": 4,
 "nbformat_minor": 2
}
