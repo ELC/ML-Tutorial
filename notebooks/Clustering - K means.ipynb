{
 "cells": [
  {
   "cell_type": "markdown",
   "metadata": {
    "toc": "true"
   },
   "source": [
    "# Table of Contents\n",
    " <p><div class=\"lev1 toc-item\"><a href=\"#Initialization\" data-toc-modified-id=\"Initialization-1\"><span class=\"toc-item-num\">1&nbsp;&nbsp;</span>Initialization</a></div><div class=\"lev1 toc-item\"><a href=\"#Load-Data\" data-toc-modified-id=\"Load-Data-2\"><span class=\"toc-item-num\">2&nbsp;&nbsp;</span>Load Data</a></div><div class=\"lev1 toc-item\"><a href=\"#Raw-KMeans\" data-toc-modified-id=\"Raw-KMeans-3\"><span class=\"toc-item-num\">3&nbsp;&nbsp;</span>Raw KMeans</a></div><div class=\"lev2 toc-item\"><a href=\"#Averaging\" data-toc-modified-id=\"Averaging-31\"><span class=\"toc-item-num\">3.1&nbsp;&nbsp;</span>Averaging</a></div><div class=\"lev1 toc-item\"><a href=\"#Testing-All-Columns-Combinations\" data-toc-modified-id=\"Testing-All-Columns-Combinations-4\"><span class=\"toc-item-num\">4&nbsp;&nbsp;</span>Testing All Columns Combinations</a></div><div class=\"lev1 toc-item\"><a href=\"#Manual\" data-toc-modified-id=\"Manual-5\"><span class=\"toc-item-num\">5&nbsp;&nbsp;</span>Manual</a></div><div class=\"lev2 toc-item\"><a href=\"#Creating-Dataset\" data-toc-modified-id=\"Creating-Dataset-51\"><span class=\"toc-item-num\">5.1&nbsp;&nbsp;</span>Creating Dataset</a></div><div class=\"lev2 toc-item\"><a href=\"#Final-Result\" data-toc-modified-id=\"Final-Result-52\"><span class=\"toc-item-num\">5.2&nbsp;&nbsp;</span>Final Result</a></div><div class=\"lev2 toc-item\"><a href=\"#Evolution-of-Centroids\" data-toc-modified-id=\"Evolution-of-Centroids-53\"><span class=\"toc-item-num\">5.3&nbsp;&nbsp;</span>Evolution of Centroids</a></div><div class=\"lev1 toc-item\"><a href=\"#Compare-Manual-with-Sci-Kit-Learn\" data-toc-modified-id=\"Compare-Manual-with-Sci-Kit-Learn-6\"><span class=\"toc-item-num\">6&nbsp;&nbsp;</span>Compare Manual with Sci Kit Learn</a></div><div class=\"lev2 toc-item\"><a href=\"#Comparing-Speed\" data-toc-modified-id=\"Comparing-Speed-61\"><span class=\"toc-item-num\">6.1&nbsp;&nbsp;</span>Comparing Speed</a></div><div class=\"lev3 toc-item\"><a href=\"#Sci-Kit-Learn\" data-toc-modified-id=\"Sci-Kit-Learn-611\"><span class=\"toc-item-num\">6.1.1&nbsp;&nbsp;</span>Sci-Kit Learn</a></div><div class=\"lev3 toc-item\"><a href=\"#Manual\" data-toc-modified-id=\"Manual-612\"><span class=\"toc-item-num\">6.1.2&nbsp;&nbsp;</span>Manual</a></div><div class=\"lev2 toc-item\"><a href=\"#Comparing-Accuracy\" data-toc-modified-id=\"Comparing-Accuracy-62\"><span class=\"toc-item-num\">6.2&nbsp;&nbsp;</span>Comparing Accuracy</a></div>"
   ]
  },
  {
   "cell_type": "markdown",
   "metadata": {},
   "source": [
    "# Initialization"
   ]
  },
  {
   "cell_type": "code",
   "execution_count": 769,
   "metadata": {
    "ExecuteTime": {
     "end_time": "2018-02-01T21:47:25.151351Z",
     "start_time": "2018-02-01T21:47:25.113327Z"
    }
   },
   "outputs": [],
   "source": [
    "import numpy as np\n",
    "import pandas as pd\n",
    "import matplotlib.pyplot as plt\n",
    "from sklearn.cluster import KMeans\n",
    "from sklearn import model_selection, preprocessing\n",
    "from itertools import combinations, chain\n",
    "from matplotlib import animation, rc\n",
    "import matplotlib as mpl\n",
    "from IPython.display import HTML\n",
    "from collections import defaultdict\n",
    "from random import shuffle\n",
    "%matplotlib inline\n",
    "mpl.rcParams['figure.figsize'] = (9,9)\n",
    "rc('animation', html='html5')"
   ]
  },
  {
   "cell_type": "markdown",
   "metadata": {},
   "source": [
    "# Load Data"
   ]
  },
  {
   "cell_type": "code",
   "execution_count": 740,
   "metadata": {
    "ExecuteTime": {
     "end_time": "2018-02-01T21:43:11.360480Z",
     "start_time": "2018-02-01T21:43:11.199956Z"
    }
   },
   "outputs": [],
   "source": [
    "df = pd.read_excel('../data/titanic.xls')\n",
    "df = df.fillna(0)"
   ]
  },
  {
   "cell_type": "code",
   "execution_count": 741,
   "metadata": {
    "ExecuteTime": {
     "end_time": "2018-02-01T21:43:12.158196Z",
     "start_time": "2018-02-01T21:43:12.122157Z"
    }
   },
   "outputs": [
    {
     "data": {
      "text/html": [
       "<div>\n",
       "<style scoped>\n",
       "    .dataframe tbody tr th:only-of-type {\n",
       "        vertical-align: middle;\n",
       "    }\n",
       "\n",
       "    .dataframe tbody tr th {\n",
       "        vertical-align: top;\n",
       "    }\n",
       "\n",
       "    .dataframe thead th {\n",
       "        text-align: right;\n",
       "    }\n",
       "</style>\n",
       "<table border=\"1\" class=\"dataframe\">\n",
       "  <thead>\n",
       "    <tr style=\"text-align: right;\">\n",
       "      <th></th>\n",
       "      <th>pclass</th>\n",
       "      <th>survived</th>\n",
       "      <th>name</th>\n",
       "      <th>sex</th>\n",
       "      <th>age</th>\n",
       "      <th>sibsp</th>\n",
       "      <th>parch</th>\n",
       "      <th>ticket</th>\n",
       "      <th>fare</th>\n",
       "      <th>cabin</th>\n",
       "      <th>embarked</th>\n",
       "      <th>boat</th>\n",
       "      <th>body</th>\n",
       "      <th>home.dest</th>\n",
       "    </tr>\n",
       "  </thead>\n",
       "  <tbody>\n",
       "    <tr>\n",
       "      <th>1304</th>\n",
       "      <td>3</td>\n",
       "      <td>0</td>\n",
       "      <td>Zabour, Miss. Hileni</td>\n",
       "      <td>female</td>\n",
       "      <td>14.5</td>\n",
       "      <td>1</td>\n",
       "      <td>0</td>\n",
       "      <td>2665</td>\n",
       "      <td>14.4542</td>\n",
       "      <td>0</td>\n",
       "      <td>C</td>\n",
       "      <td>0</td>\n",
       "      <td>328.0</td>\n",
       "      <td>0</td>\n",
       "    </tr>\n",
       "    <tr>\n",
       "      <th>1305</th>\n",
       "      <td>3</td>\n",
       "      <td>0</td>\n",
       "      <td>Zabour, Miss. Thamine</td>\n",
       "      <td>female</td>\n",
       "      <td>0.0</td>\n",
       "      <td>1</td>\n",
       "      <td>0</td>\n",
       "      <td>2665</td>\n",
       "      <td>14.4542</td>\n",
       "      <td>0</td>\n",
       "      <td>C</td>\n",
       "      <td>0</td>\n",
       "      <td>0.0</td>\n",
       "      <td>0</td>\n",
       "    </tr>\n",
       "    <tr>\n",
       "      <th>1306</th>\n",
       "      <td>3</td>\n",
       "      <td>0</td>\n",
       "      <td>Zakarian, Mr. Mapriededer</td>\n",
       "      <td>male</td>\n",
       "      <td>26.5</td>\n",
       "      <td>0</td>\n",
       "      <td>0</td>\n",
       "      <td>2656</td>\n",
       "      <td>7.2250</td>\n",
       "      <td>0</td>\n",
       "      <td>C</td>\n",
       "      <td>0</td>\n",
       "      <td>304.0</td>\n",
       "      <td>0</td>\n",
       "    </tr>\n",
       "    <tr>\n",
       "      <th>1307</th>\n",
       "      <td>3</td>\n",
       "      <td>0</td>\n",
       "      <td>Zakarian, Mr. Ortin</td>\n",
       "      <td>male</td>\n",
       "      <td>27.0</td>\n",
       "      <td>0</td>\n",
       "      <td>0</td>\n",
       "      <td>2670</td>\n",
       "      <td>7.2250</td>\n",
       "      <td>0</td>\n",
       "      <td>C</td>\n",
       "      <td>0</td>\n",
       "      <td>0.0</td>\n",
       "      <td>0</td>\n",
       "    </tr>\n",
       "    <tr>\n",
       "      <th>1308</th>\n",
       "      <td>3</td>\n",
       "      <td>0</td>\n",
       "      <td>Zimmerman, Mr. Leo</td>\n",
       "      <td>male</td>\n",
       "      <td>29.0</td>\n",
       "      <td>0</td>\n",
       "      <td>0</td>\n",
       "      <td>315082</td>\n",
       "      <td>7.8750</td>\n",
       "      <td>0</td>\n",
       "      <td>S</td>\n",
       "      <td>0</td>\n",
       "      <td>0.0</td>\n",
       "      <td>0</td>\n",
       "    </tr>\n",
       "  </tbody>\n",
       "</table>\n",
       "</div>"
      ],
      "text/plain": [
       "      pclass  survived                       name     sex   age  sibsp  parch  \\\n",
       "1304       3         0       Zabour, Miss. Hileni  female  14.5      1      0   \n",
       "1305       3         0      Zabour, Miss. Thamine  female   0.0      1      0   \n",
       "1306       3         0  Zakarian, Mr. Mapriededer    male  26.5      0      0   \n",
       "1307       3         0        Zakarian, Mr. Ortin    male  27.0      0      0   \n",
       "1308       3         0         Zimmerman, Mr. Leo    male  29.0      0      0   \n",
       "\n",
       "      ticket     fare cabin embarked boat   body home.dest  \n",
       "1304    2665  14.4542     0        C    0  328.0         0  \n",
       "1305    2665  14.4542     0        C    0    0.0         0  \n",
       "1306    2656   7.2250     0        C    0  304.0         0  \n",
       "1307    2670   7.2250     0        C    0    0.0         0  \n",
       "1308  315082   7.8750     0        S    0    0.0         0  "
      ]
     },
     "execution_count": 741,
     "metadata": {},
     "output_type": "execute_result"
    }
   ],
   "source": [
    "df.tail()"
   ]
  },
  {
   "cell_type": "markdown",
   "metadata": {},
   "source": [
    "# Raw KMeans "
   ]
  },
  {
   "cell_type": "code",
   "execution_count": 742,
   "metadata": {
    "ExecuteTime": {
     "end_time": "2018-02-01T21:43:13.475412Z",
     "start_time": "2018-02-01T21:43:13.463397Z"
    }
   },
   "outputs": [],
   "source": [
    "dropped_columns = ['name', 'survived', 'body', 'ticket', 'home.dest', 'cabin']\n",
    "\n",
    "text_columns = [col for col in df.columns if df[col].dtype not in [np.int64, np.float64]]\n",
    "dummy_columns = [col for col in text_columns if col not in dropped_columns]"
   ]
  },
  {
   "cell_type": "code",
   "execution_count": 743,
   "metadata": {
    "ExecuteTime": {
     "end_time": "2018-02-01T21:43:14.204575Z",
     "start_time": "2018-02-01T21:43:14.175527Z"
    }
   },
   "outputs": [],
   "source": [
    "X_df = df.drop(dropped_columns, 1)\n",
    "X_df = pd.get_dummies(X_df, columns=dummy_columns, drop_first=True)\n",
    "\n",
    "X = np.array(X_df).astype(float)\n",
    "X = preprocessing.scale(X)\n",
    "\n",
    "y = np.array(df['survived']).reshape(-1, 1)"
   ]
  },
  {
   "cell_type": "code",
   "execution_count": 749,
   "metadata": {
    "ExecuteTime": {
     "end_time": "2018-02-01T21:44:38.093526Z",
     "start_time": "2018-02-01T21:44:38.071519Z"
    }
   },
   "outputs": [],
   "source": [
    "def KMeans_process(X, y, call=KMeans):\n",
    "    clf = call(n_clusters=2)\n",
    "    clf.fit(X)\n",
    "    correct = 0\n",
    "    for x_i, y_i in zip(X, y):\n",
    "        predict_me = np.array(x_i).reshape(1, -1)\n",
    "        prediction = clf.predict(predict_me)\n",
    "        if prediction == y_i:\n",
    "            correct += 1\n",
    "    acc = correct / len(X)\n",
    "    return acc if acc > 0.5 else 1- acc"
   ]
  },
  {
   "cell_type": "code",
   "execution_count": 753,
   "metadata": {
    "ExecuteTime": {
     "end_time": "2018-02-01T21:44:42.953182Z",
     "start_time": "2018-02-01T21:44:42.438584Z"
    }
   },
   "outputs": [
    {
     "name": "stdout",
     "output_type": "stream",
     "text": [
      "One Shot Accuracy: 61.57%\n"
     ]
    }
   ],
   "source": [
    "acc = KMeans_process(X, y)\n",
    "print(f'One Shot Accuracy: {round(acc * 100, 2)}%')"
   ]
  },
  {
   "cell_type": "markdown",
   "metadata": {},
   "source": [
    "## Averaging"
   ]
  },
  {
   "cell_type": "code",
   "execution_count": 747,
   "metadata": {
    "ExecuteTime": {
     "end_time": "2018-02-01T21:43:37.058885Z",
     "start_time": "2018-02-01T21:43:31.572724Z"
    }
   },
   "outputs": [
    {
     "name": "stdout",
     "output_type": "stream",
     "text": [
      "Average Accuracy: 67.02%\n"
     ]
    }
   ],
   "source": [
    "total = 0\n",
    "n = 10\n",
    "\n",
    "for i in range(n):\n",
    "    total += process(X, y)\n",
    "    \n",
    "print(f'Average Accuracy: {round(total / n * 100, 2)}%')"
   ]
  },
  {
   "cell_type": "markdown",
   "metadata": {},
   "source": [
    "# Testing All Columns Combinations "
   ]
  },
  {
   "cell_type": "code",
   "execution_count": 450,
   "metadata": {
    "ExecuteTime": {
     "end_time": "2018-02-01T19:46:26.500528Z",
     "start_time": "2018-02-01T19:46:26.493520Z"
    }
   },
   "outputs": [],
   "source": [
    "a = (combinations(df.columns, i) for i in range(len(df.columns)))\n",
    "all_posibilities = chain.from_iterable(a)"
   ]
  },
  {
   "cell_type": "code",
   "execution_count": 451,
   "metadata": {
    "ExecuteTime": {
     "end_time": "2018-02-01T20:06:50.403255Z",
     "start_time": "2018-02-01T19:46:27.337519Z"
    }
   },
   "outputs": [
    {
     "name": "stdout",
     "output_type": "stream",
     "text": [
      "0.6417112299465241 () 2838\n",
      "0.6707410236822001 ('ticket',) 1900\n",
      "0.7097020626432391 ('fare',) 2837\n",
      "0.9663865546218487 ('pclass', 'name') 1531\n",
      "0.9992360580595875 ('pclass', 'fare', 'boat') 2808\n"
     ]
    },
    {
     "ename": "KeyboardInterrupt",
     "evalue": "",
     "output_type": "error",
     "traceback": [
      "\u001b[1;31m---------------------------------------------------------------------------\u001b[0m",
      "\u001b[1;31mKeyboardInterrupt\u001b[0m                         Traceback (most recent call last)",
      "\u001b[1;32m<ipython-input-451-a30aed706e60>\u001b[0m in \u001b[0;36m<module>\u001b[1;34m()\u001b[0m\n\u001b[0;32m     12\u001b[0m     \u001b[0mX\u001b[0m \u001b[1;33m=\u001b[0m \u001b[0mpreprocessing\u001b[0m\u001b[1;33m.\u001b[0m\u001b[0mscale\u001b[0m\u001b[1;33m(\u001b[0m\u001b[0mX\u001b[0m\u001b[1;33m)\u001b[0m\u001b[1;33m\u001b[0m\u001b[0m\n\u001b[0;32m     13\u001b[0m \u001b[1;33m\u001b[0m\u001b[0m\n\u001b[1;32m---> 14\u001b[1;33m     \u001b[0macc\u001b[0m \u001b[1;33m=\u001b[0m \u001b[0mKMeans_process\u001b[0m\u001b[1;33m(\u001b[0m\u001b[0mX\u001b[0m\u001b[1;33m,\u001b[0m \u001b[0my\u001b[0m\u001b[1;33m)\u001b[0m\u001b[1;33m\u001b[0m\u001b[0m\n\u001b[0m\u001b[0;32m     15\u001b[0m \u001b[1;33m\u001b[0m\u001b[0m\n\u001b[0;32m     16\u001b[0m     \u001b[1;32mif\u001b[0m \u001b[0macc\u001b[0m \u001b[1;33m>\u001b[0m \u001b[0macc_max\u001b[0m\u001b[1;33m:\u001b[0m\u001b[1;33m\u001b[0m\u001b[0m\n",
      "\u001b[1;32m<ipython-input-447-befeae26e386>\u001b[0m in \u001b[0;36mKMeans_process\u001b[1;34m(X, y)\u001b[0m\n\u001b[0;32m      1\u001b[0m \u001b[1;32mdef\u001b[0m \u001b[0mKMeans_process\u001b[0m\u001b[1;33m(\u001b[0m\u001b[0mX\u001b[0m\u001b[1;33m,\u001b[0m \u001b[0my\u001b[0m\u001b[1;33m)\u001b[0m\u001b[1;33m:\u001b[0m\u001b[1;33m\u001b[0m\u001b[0m\n\u001b[0;32m      2\u001b[0m     \u001b[0mclf\u001b[0m \u001b[1;33m=\u001b[0m \u001b[0mKMeans\u001b[0m\u001b[1;33m(\u001b[0m\u001b[0mn_clusters\u001b[0m\u001b[1;33m=\u001b[0m\u001b[1;36m2\u001b[0m\u001b[1;33m)\u001b[0m\u001b[1;33m\u001b[0m\u001b[0m\n\u001b[1;32m----> 3\u001b[1;33m     \u001b[0mclf\u001b[0m\u001b[1;33m.\u001b[0m\u001b[0mfit\u001b[0m\u001b[1;33m(\u001b[0m\u001b[0mX\u001b[0m\u001b[1;33m)\u001b[0m\u001b[1;33m\u001b[0m\u001b[0m\n\u001b[0m\u001b[0;32m      4\u001b[0m     \u001b[0mcorrect\u001b[0m \u001b[1;33m=\u001b[0m \u001b[1;36m0\u001b[0m\u001b[1;33m\u001b[0m\u001b[0m\n\u001b[0;32m      5\u001b[0m     \u001b[1;32mfor\u001b[0m \u001b[0mx_i\u001b[0m\u001b[1;33m,\u001b[0m \u001b[0my_i\u001b[0m \u001b[1;32min\u001b[0m \u001b[0mzip\u001b[0m\u001b[1;33m(\u001b[0m\u001b[0mX\u001b[0m\u001b[1;33m,\u001b[0m \u001b[0my\u001b[0m\u001b[1;33m)\u001b[0m\u001b[1;33m:\u001b[0m\u001b[1;33m\u001b[0m\u001b[0m\n",
      "\u001b[1;32m~\\Anaconda3\\lib\\site-packages\\sklearn\\cluster\\k_means_.py\u001b[0m in \u001b[0;36mfit\u001b[1;34m(self, X, y)\u001b[0m\n\u001b[0;32m    894\u001b[0m                 \u001b[0mtol\u001b[0m\u001b[1;33m=\u001b[0m\u001b[0mself\u001b[0m\u001b[1;33m.\u001b[0m\u001b[0mtol\u001b[0m\u001b[1;33m,\u001b[0m \u001b[0mrandom_state\u001b[0m\u001b[1;33m=\u001b[0m\u001b[0mrandom_state\u001b[0m\u001b[1;33m,\u001b[0m \u001b[0mcopy_x\u001b[0m\u001b[1;33m=\u001b[0m\u001b[0mself\u001b[0m\u001b[1;33m.\u001b[0m\u001b[0mcopy_x\u001b[0m\u001b[1;33m,\u001b[0m\u001b[1;33m\u001b[0m\u001b[0m\n\u001b[0;32m    895\u001b[0m                 \u001b[0mn_jobs\u001b[0m\u001b[1;33m=\u001b[0m\u001b[0mself\u001b[0m\u001b[1;33m.\u001b[0m\u001b[0mn_jobs\u001b[0m\u001b[1;33m,\u001b[0m \u001b[0malgorithm\u001b[0m\u001b[1;33m=\u001b[0m\u001b[0mself\u001b[0m\u001b[1;33m.\u001b[0m\u001b[0malgorithm\u001b[0m\u001b[1;33m,\u001b[0m\u001b[1;33m\u001b[0m\u001b[0m\n\u001b[1;32m--> 896\u001b[1;33m                 return_n_iter=True)\n\u001b[0m\u001b[0;32m    897\u001b[0m         \u001b[1;32mreturn\u001b[0m \u001b[0mself\u001b[0m\u001b[1;33m\u001b[0m\u001b[0m\n\u001b[0;32m    898\u001b[0m \u001b[1;33m\u001b[0m\u001b[0m\n",
      "\u001b[1;32m~\\Anaconda3\\lib\\site-packages\\sklearn\\cluster\\k_means_.py\u001b[0m in \u001b[0;36mk_means\u001b[1;34m(X, n_clusters, init, precompute_distances, n_init, max_iter, verbose, tol, random_state, copy_x, n_jobs, algorithm, return_n_iter)\u001b[0m\n\u001b[0;32m    344\u001b[0m                 \u001b[0mX\u001b[0m\u001b[1;33m,\u001b[0m \u001b[0mn_clusters\u001b[0m\u001b[1;33m,\u001b[0m \u001b[0mmax_iter\u001b[0m\u001b[1;33m=\u001b[0m\u001b[0mmax_iter\u001b[0m\u001b[1;33m,\u001b[0m \u001b[0minit\u001b[0m\u001b[1;33m=\u001b[0m\u001b[0minit\u001b[0m\u001b[1;33m,\u001b[0m \u001b[0mverbose\u001b[0m\u001b[1;33m=\u001b[0m\u001b[0mverbose\u001b[0m\u001b[1;33m,\u001b[0m\u001b[1;33m\u001b[0m\u001b[0m\n\u001b[0;32m    345\u001b[0m                 \u001b[0mprecompute_distances\u001b[0m\u001b[1;33m=\u001b[0m\u001b[0mprecompute_distances\u001b[0m\u001b[1;33m,\u001b[0m \u001b[0mtol\u001b[0m\u001b[1;33m=\u001b[0m\u001b[0mtol\u001b[0m\u001b[1;33m,\u001b[0m\u001b[1;33m\u001b[0m\u001b[0m\n\u001b[1;32m--> 346\u001b[1;33m                 x_squared_norms=x_squared_norms, random_state=random_state)\n\u001b[0m\u001b[0;32m    347\u001b[0m             \u001b[1;31m# determine if these results are the best so far\u001b[0m\u001b[1;33m\u001b[0m\u001b[1;33m\u001b[0m\u001b[0m\n\u001b[0;32m    348\u001b[0m             \u001b[1;32mif\u001b[0m \u001b[0mbest_inertia\u001b[0m \u001b[1;32mis\u001b[0m \u001b[1;32mNone\u001b[0m \u001b[1;32mor\u001b[0m \u001b[0minertia\u001b[0m \u001b[1;33m<\u001b[0m \u001b[0mbest_inertia\u001b[0m\u001b[1;33m:\u001b[0m\u001b[1;33m\u001b[0m\u001b[0m\n",
      "\u001b[1;32m~\\Anaconda3\\lib\\site-packages\\sklearn\\cluster\\k_means_.py\u001b[0m in \u001b[0;36m_kmeans_single_elkan\u001b[1;34m(X, n_clusters, max_iter, init, verbose, x_squared_norms, random_state, tol, precompute_distances)\u001b[0m\n\u001b[0;32m    399\u001b[0m     centers, labels, n_iter = k_means_elkan(X, n_clusters, centers, tol=tol,\n\u001b[0;32m    400\u001b[0m                                             max_iter=max_iter, verbose=verbose)\n\u001b[1;32m--> 401\u001b[1;33m     \u001b[0minertia\u001b[0m \u001b[1;33m=\u001b[0m \u001b[0mnp\u001b[0m\u001b[1;33m.\u001b[0m\u001b[0msum\u001b[0m\u001b[1;33m(\u001b[0m\u001b[1;33m(\u001b[0m\u001b[0mX\u001b[0m \u001b[1;33m-\u001b[0m \u001b[0mcenters\u001b[0m\u001b[1;33m[\u001b[0m\u001b[0mlabels\u001b[0m\u001b[1;33m]\u001b[0m\u001b[1;33m)\u001b[0m \u001b[1;33m**\u001b[0m \u001b[1;36m2\u001b[0m\u001b[1;33m,\u001b[0m \u001b[0mdtype\u001b[0m\u001b[1;33m=\u001b[0m\u001b[0mnp\u001b[0m\u001b[1;33m.\u001b[0m\u001b[0mfloat64\u001b[0m\u001b[1;33m)\u001b[0m\u001b[1;33m\u001b[0m\u001b[0m\n\u001b[0m\u001b[0;32m    402\u001b[0m     \u001b[1;32mreturn\u001b[0m \u001b[0mlabels\u001b[0m\u001b[1;33m,\u001b[0m \u001b[0minertia\u001b[0m\u001b[1;33m,\u001b[0m \u001b[0mcenters\u001b[0m\u001b[1;33m,\u001b[0m \u001b[0mn_iter\u001b[0m\u001b[1;33m\u001b[0m\u001b[0m\n\u001b[0;32m    403\u001b[0m \u001b[1;33m\u001b[0m\u001b[0m\n",
      "\u001b[1;31mKeyboardInterrupt\u001b[0m: "
     ]
    }
   ],
   "source": [
    "acc_max = 0\n",
    "best_columns = []\n",
    "\n",
    "for dropped_columns in all_posibilities:\n",
    "    text_columns = [col for col in df.columns if df[col].dtype not in [np.int64, np.float64]]\n",
    "    dummy_columns = [col for col in text_columns if col not in dropped_columns]\n",
    "    \n",
    "    X_df = df.drop(list(dropped_columns), 1)\n",
    "    X_df = pd.get_dummies(X_df, columns=dummy_columns, drop_first=True)\n",
    "    \n",
    "    X = np.array(X_df).astype(float)\n",
    "    X = preprocessing.scale(X)\n",
    "    \n",
    "    acc = KMeans_process(X, y)\n",
    "    \n",
    "    if acc > acc_max:\n",
    "        acc_max = acc\n",
    "        best_columns = dropped_columns\n",
    "        print(acc_max, best_columns, len(X_df.columns))\n",
    "\n",
    "acc_max, best_columns"
   ]
  },
  {
   "cell_type": "markdown",
   "metadata": {},
   "source": [
    "# Manual"
   ]
  },
  {
   "cell_type": "markdown",
   "metadata": {},
   "source": [
    "## Creating Dataset"
   ]
  },
  {
   "cell_type": "code",
   "execution_count": 826,
   "metadata": {
    "ExecuteTime": {
     "end_time": "2018-02-01T21:56:34.995837Z",
     "start_time": "2018-02-01T21:56:34.673472Z"
    }
   },
   "outputs": [
    {
     "data": {
      "image/png": "[encoded data removed]",
      "text/plain": [
       "<matplotlib.figure.Figure at 0x1974a71da90>"
      ]
     },
     "metadata": {},
     "output_type": "display_data"
    }
   ],
   "source": [
    "X = np.array([[1, 2],\n",
    "              [1.5, 1.8],\n",
    "              [5, 8 ],\n",
    "              [8, 8],\n",
    "              [1, 0.6],\n",
    "              [9,11]])\n",
    "\n",
    "plt.scatter(X[:,0], X[:,1], s=150)\n",
    "plt.show()\n",
    "colors = 10*[\"g\",\"r\",\"c\",\"b\",\"k\"]"
   ]
  },
  {
   "cell_type": "code",
   "execution_count": 827,
   "metadata": {
    "ExecuteTime": {
     "end_time": "2018-02-01T21:56:35.751193Z",
     "start_time": "2018-02-01T21:56:35.474871Z"
    }
   },
   "outputs": [],
   "source": [
    "class K_Means:\n",
    "    \n",
    "    def __init__(self, n_clusters=2, tol=0.001, max_iter=300):\n",
    "        self.k = n_clusters\n",
    "        self.tol = tol\n",
    "        self.max_iter = max_iter\n",
    "        self.steps = []\n",
    "        \n",
    "    def fit(self, data):\n",
    "        self.centroids = {key:data[i] for key, i in enumerate(np.random.randint(0, len(data), size=self.k))}\n",
    "                                                           \n",
    "        for i in range(self.max_iter):\n",
    "            self.classification = defaultdict(list)\n",
    "            \n",
    "            for featureset in data:\n",
    "                distances = {np.linalg.norm(featureset - coord):centroid\n",
    "                             for centroid, coord in self.centroids.items()}\n",
    "                classification = distances[min(distances)]\n",
    "                self.classification[classification].append(featureset)\n",
    "            \n",
    "            prev_centroids = dict(self.centroids)\n",
    "            \n",
    "            for class_, points in self.classification.items():\n",
    "                self.centroids[class_] = np.average(points, axis=0)\n",
    "            \n",
    "            optimized = True\n",
    "            \n",
    "            for old, new in zip(prev_centroids.values(), self.centroids.values()):\n",
    "                if np.sum(abs(new - old) / old * 100) > self.tol:\n",
    "                    optimized = False\n",
    "                    break\n",
    "            \n",
    "            self.steps.append((prev_centroids, self.classification))\n",
    "            \n",
    "            if optimized:\n",
    "                break\n",
    "                \n",
    "    def predict(self, data):\n",
    "        distances = {np.linalg.norm(data - centroid):class_ for class_, centroid in self.centroids.items()}\n",
    "        return distances[min(distances)]\n",
    "    \n",
    "    def visualize(self):\n",
    "        if len(list(self.classification.values())[0][0]) != 2:\n",
    "            print('Your data have to be 2 Dimensional to be plotted')\n",
    "            return\n",
    "        \n",
    "        fig, ax = plt.subplots()\n",
    "        \n",
    "        for centroid in self.centroids.values():\n",
    "            x, y = centroid\n",
    "            ax.scatter(x, y, marker='x', color='k', s=200)\n",
    "\n",
    "        for class_, points in self.classification.items():\n",
    "            color = colors[class_]\n",
    "            points = np.array(points)\n",
    "            x, y = points.T\n",
    "            ax.scatter(x, y, marker='o', color=color, s=150)"
   ]
  },
  {
   "cell_type": "markdown",
   "metadata": {},
   "source": [
    "## Final Result"
   ]
  },
  {
   "cell_type": "code",
   "execution_count": 828,
   "metadata": {
    "ExecuteTime": {
     "end_time": "2018-02-01T21:56:36.881509Z",
     "start_time": "2018-02-01T21:56:36.564150Z"
    }
   },
   "outputs": [
    {
     "data": {
      "text/plain": [
       "1"
      ]
     },
     "execution_count": 828,
     "metadata": {},
     "output_type": "execute_result"
    },
    {
     "data": {
      "image/png": "[encoded data removed]",
      "text/plain": [
       "<matplotlib.figure.Figure at 0x1974afb0320>"
      ]
     },
     "metadata": {},
     "output_type": "display_data"
    }
   ],
   "source": [
    "clf = K_Means()\n",
    "clf.fit(X)\n",
    "clf.visualize()\n",
    "clf.predict([8,9])"
   ]
  },
  {
   "cell_type": "markdown",
   "metadata": {},
   "source": [
    "## Evolution of Centroids"
   ]
  },
  {
   "cell_type": "code",
   "execution_count": 829,
   "metadata": {
    "ExecuteTime": {
     "end_time": "2018-02-01T21:56:39.264733Z",
     "start_time": "2018-02-01T21:56:37.995475Z"
    }
   },
   "outputs": [
    {
     "data": {
      "text/html": [
       "<video width=\"648\" height=\"648\" controls autoplay loop>\n",
       "  <source type=\"video/mp4\" src=\"data:video/mp4;base64,AAAAHGZ0eXBNNFYgAAACAGlzb21pc28yYXZjMQAAAAhmcmVlAAAS8m1kYXQAAAKtBgX//6ncRem9\n",
       "5tlIt5Ys2CDZI+7veDI2NCAtIGNvcmUgMTUyIHIyODUxIGJhMjQ4OTkgLSBILjI2NC9NUEVHLTQg\n",
       "QVZDIGNvZGVjIC0gQ29weWxlZnQgMjAwMy0yMDE3IC0gaHR0cDovL3d3dy52aWRlb2xhbi5vcmcv\n",
       "eDI2NC5odG1sIC0gb3B0aW9uczogY2FiYWM9MSByZWY9MyBkZWJsb2NrPTE6MDowIGFuYWx5c2U9\n",
       "MHgzOjB4MTEzIG1lPWhleCBzdWJtZT03IHBzeT0xIHBzeV9yZD0xLjAwOjAuMDAgbWl4ZWRfcmVm\n",
       "PTEgbWVfcmFuZ2U9MTYgY2hyb21hX21lPTEgdHJlbGxpcz0xIDh4OGRjdD0xIGNxbT0wIGRlYWR6\n",
       "b25lPTIxLDExIGZhc3RfcHNraXA9MSBjaHJvbWFfcXBfb2Zmc2V0PS0yIHRocmVhZHM9NiBsb29r\n",
       "YWhlYWRfdGhyZWFkcz0xIHNsaWNlZF90aHJlYWRzPTAgbnI9MCBkZWNpbWF0ZT0xIGludGVybGFj\n",
       "ZWQ9MCBibHVyYXlfY29tcGF0PTAgY29uc3RyYWluZWRfaW50cmE9MCBiZnJhbWVzPTMgYl9weXJh\n",
       "bWlkPTIgYl9hZGFwdD0xIGJfYmlhcz0wIGRpcmVjdD0xIHdlaWdodGI9MSBvcGVuX2dvcD0wIHdl\n",
       "aWdodHA9MiBrZXlpbnQ9MjUwIGtleWludF9taW49MSBzY2VuZWN1dD00MCBpbnRyYV9yZWZyZXNo\n",
       "PTAgcmNfbG9va2FoZWFkPTQwIHJjPWNyZiBtYnRyZWU9MSBjcmY9MjMuMCBxY29tcD0wLjYwIHFw\n",
       "bWluPTAgcXBtYXg9NjkgcXBzdGVwPTQgaXBfcmF0aW89MS40MCBhcT0xOjEuMDAAgAAACq1liIQA\n",
       "Fv/+99M/zLLr9zm146j3op4mX0N1JQGblsTtOoAAAAMAAAMAAA4HSey7/xZoIyrAAAATUAJIDGib\n",
       "/wkMfAAdAjvGfH4oegaMP3pEVkEPlQ0rr7Trf71koupUPjiO6ltybSR8859qWjmYIMAuOovk9Dym\n",
       "nkNmbuCfpuzDjJZeBJUYxW72Z3qb/9nvlTzLS7fisqtOZGbmeSemcBxnLe3x8tqiT8XogTxRmgoO\n",
       "I/KDVruJlnqmgcivVp0Uu2MQDbUCaQoIpL9xv2E+/Z+2ZJdgQKDm1rdR5MCvo7cDPHTWI/+T5h71\n",
       "LMzdOLQwdyhgdhi2KQAAQkVfXfPgoZE5K0mJO7uDglQxWJaQbWDpqHLFWfUk8jCpHbr84Iu2780h\n",
       "/6aDb5oX9y8TALAcS6U+i0TMmIq7A9toSjRtYU9PWa1Z5BGF+U1QcTQLbnQVMgcaaGC+iLKKbtfd\n",
       "6op/z+2yYmkGktSpj17ej8+4p/1mlppyww+J07l5F7TbBNXp838MIuJV5C2fIFQnQmjsxMmaUNf2\n",
       "cv6/ks0i0CtU0ppiI75rVDrQyuYzz7eT/pA5h73stVdV/qGhtUHD5OagtV9ygn7kXdlFdbIingS5\n",
       "izVIktQoySK2RyiX+OzqnsPV5o+vGZua+WvnMkbcquJzLMHd/5Gx+lmCf4z15mKGMgK12s49vY9p\n",
       "GVoynV9nzDpH4uQ5tHCQ1r2H6n6spPS6Hfb3tSJKUlX1w3qt90hx4PUCsKy/IGd2JKWFTClPmoy4\n",
       "UtvT0dQrN3XVGqwX/uVeOls0BPMhYXxuh8c4CQ1yoTnhch28UC10qE+LAXxWfo5cBWyXKglJdZVQ\n",
       "AYTj6o5Yg6sU2ICQnO1xQSy7TKF83W5JUs8UXDlCiN+L/Is3WKAWQy4xclgWw+2NVHuA3G3bn4IT\n",
       "gDNTHBbDYAxwbYghLd1YO868F9WNDc351QSfYJuXNrt4VeBmb1kXo9g/DpJtXMa/jNQlGDkUogkV\n",
       "OsmpfHLqFzDGysszFUCxYEAtdgowz4RjAvXyJ0Bk0GvPiPOi9HPvuhK45xyNuOj2hxYKdmTydyZM\n",
       "knE0TATFk8XKyblWQfJ2dF7PBjsSqZfkrI7HrW6UmBadkVL/iPKrFWRor15Q0EruHtii1J8nfpSg\n",
       "jFlNrtGTctVi0jYH3js2uBVx1TNLDyvQdBvATze6Znl8DIS7TaYnlf8gBeJAcQax7myTRVsE1ssp\n",
       "1Q764BkGWbHJLhRcdOvj9Ncw67omt5IdTJ+qKCA9LEx2rk5V+0kw4S2U7X5PX2ifFZ5Xrbd10vN1\n",
       "ke4cBZKsTPyytAUJrKC3R6kn09PPzQlRUK8fHPxBuVF2P4Ar1TEuUranw0QVl0mMkHGaEPsmLDt6\n",
       "J+SjYKQWwda8RqinQOaGtIKy7Nt9173fv6k0B5uGyX4M5KydOiPzR0AbiIeZXICjdgVi7V9djNNX\n",
       "6YlP+qUqqYHU5vuGOggNhSSOrXyftVIIz34x8XCd4x46npCQLajozSygJuZOtcmjCfOXuDle1Dfc\n",
       "MH/QR9EbSUQOXhn+Ez+kMQ8GjqxquJt3CV2IGTKz02+Elr1iM+ekYEUkWG/PCXWipB8UAQ3s+qpg\n",
       "fdwevgmxN06hOsnIovhF4iTd9tGkjRec6S+NTKIpZ92/mfQFIALcWAAAsMqSMt+S1IynfIaPZ1YR\n",
       "k177wbNmxPUUtzzgE00I8qtCuZ9ldw0qlPocYITrF6P8VKr54Ns2BJmZBkgQqxE9dJ1wRVA8uMxm\n",
       "9s2H4x6TxSvpHx+333a0adar1Ix33V7QFP2AMWkOFGLYVYhG2SAc4g2HmjiAA5QAAAMAAAMAtUik\n",
       "6N1lgttggWln+F0FNZ8WFgGp/7oYS9s3dakTZf1PkYJR12DrD1aEUGsXUuGtDSLpzTbcqmaujR43\n",
       "R3n4YgC8uS0BSGRhu9Ec2g6cAAADAAADADroMLroMZM/JX78F/kb0VC0NiolauoQ6Je/6JO2jYQC\n",
       "YYmakb9KL3Qz5B3OwCqiAaan8dgTDOT7Juyn+Jn7Uex4abAwRosUjGRC1hSzIahKrglsxTaXHwM7\n",
       "4tp2+uaQyeDF90EML8d1xyLhXh/JOow85toI2t+SzOWgP4emvG57j/4rr/9nXXxJLpcQVI07mPST\n",
       "DpdBrM4rXyo6M268jXN9yWt+B7Hd5JTbpoWeB0cgGlQmzwH5QyZZeQoHzoqHBAPBIB/o1JmtO/lt\n",
       "i1tZRzJnzm/mWaeasB5qj3XfSEQIIqzCJgv0FX48NhfPm0sDKTiNua9qX141e0B736HnvXDsQTs+\n",
       "HqqyfuUEq2T+m8H9wt0b6qP88lYhBDfY4Vo2uHz+2ZHsZnMlWMm5yATWsw1DokJIBwma9eyCrYol\n",
       "VUDtBcfkDgXb0Lt7SyB+KWcD9qLM7oNH8lMUVQg3gjAXE/TJuyFYZtlZFdUf0awA0QGdIu4B8Azm\n",
       "HY1APkuhvr2AsDJCRod5bGiP2mjjnCBipJvA857uVDUzoABOQuVqZeVL9L+1vkm0Q5nXI+GbWY/a\n",
       "F/tw/TfQ19XE753C8Dl2geeM+l6P/cBloGCcH5F0O/ZtLejXV+zFtErC36v6wiU45kxpCc4DnVWD\n",
       "WYdl4hxgHn7N3i3TIHra+Ftt11X4YhTgSLiltRA3TUKCNoK/2s6NpQe0HUF5oFIs4WaQrYMhPCay\n",
       "2JR1+otP7t8bPTDzpBAp4dpmMX4mcQs3oPGpZtyiPAkOMlFKR6rgad+T684zaJYnM1hOSHU0YPen\n",
       "BhFRSBJqBOc6O4z9E+HvkmAYeZsUKCKpMwphBHv9ba511xeV2XryLAGY+wKN2+AC8S0jvHNZmL5T\n",
       "mzjOSrxlAoJOCotv/MZCBwctqnMgPZz0oskWy9MRSGPWgC4KQj3ScBFlOpyGY7vSc+ivdN/M2Xp+\n",
       "R1OO6fElKU89n58l38j8DhBBO5AE7uXDcxBp4NHQd6Nwbm4MpwhZVQf0kWk2yQn523XMgy/36CAk\n",
       "nS9HBM3D01Uez0AYSHs1bMdRr+pwkSjEtKjLWvI4q6zApZdfNXp93GaGc7vloADzFH0m4GYSXV7t\n",
       "6EKyO858Pf5tbr0NpL0pdIqO+gzeKT76qfj74ZGeQ7m0xSZxSxa1BVxLKLorik/ejT23knNUew15\n",
       "Y8jJo5mVbYNZqys7SIgpYrCCJkZ/4f0LjE3l75YPmNAwLsXXW8zIe28HLuMopN8ZGy96DpUlmk0e\n",
       "gNq4p7L8MVmrmUYTNye/daw3f/47e8mBG/dj2SnxeERu/uwmwU5agvZh5dEMBlC7g/aA/AqH0yQd\n",
       "Y7yS4In/sUsDVdcfDE9naLL1I5uve0CF01D6oQYjK/PEyyYZpMVbZkjI4+rHrHqpYXioW8IUcJXT\n",
       "9JYjQlSWlafWh+44J0l2TTfSDmnSoseVVCpl90lmG0DycykmgXVGxNFzmc6eA0xFUC7jSRpdzGHI\n",
       "pAmkcYF3dJX/zH4ws04ntJxNPEQPMEE/utpD+BWsdEWKZeJowdyScLx//h+juFtsqeb5ONzuol1i\n",
       "eAh2u1sPolwtKWJbQKhgjS21Z+SD0ge2uY0oaDY/FEoB2Cr0qiEU5FsOcRzFz6SOXpgiHTEptZu7\n",
       "l8IzSxH1PtxLMZWjmBeJyhWubX8/nk9J+BtrFspm8/ZY325bfRqPGAABXgAAAwAAmoEAAAKsQZoj\n",
       "bEFP/taMsAACMkjEAC7dLFx5jalKZy1UZREv5rqdSPYqrDgb6VgqmtqEUkR2bD6Qp9sF0wYc+BDs\n",
       "8wbkMTkAnbrYY71H6d4uowG9Xk1s9iaNbHHOJ9341wFn7IJ6O/O2EMAEEpaunxvQEP/S5RrM2594\n",
       "+e3ygMKb7pTLEzScqPaJc5HrFR/WRNANv1dDzMQiXD52xqIHTvu4mPPbnIDGpVha/6wp2Ivzf1M6\n",
       "0OZogWErWeCkPjLYG8fYeWae9JVf9NxfiMBczLY2u4Kd79eJgAiDXdKb0pZollPXbIog8TxeuXgK\n",
       "9QI+t8k3GRLgH/3o9mqsAiCowL6cHC8A4ePaaLHXIXzYQnffr3cSoh5GtyQosHSl7FbX0P35EyZ2\n",
       "F5PWJ2zdoKdyGAhp8+BNoeq1h28/S7p/3UJkDIQInyY3FmeaG6B0wPiy3VkCHKEDycSKnofT0KtI\n",
       "L+SJt2skSc8mvpcBasm0Zam1ZQsSUIRsHUqUpVt5yb7Yclj/eH4cFKf+6ojdojha/y3ET0e458Fn\n",
       "5OAVT7xsDO9313ZM22b+kGU/JgjWH/M5F2ZWF4jk4MbQzXvqXe0hLyVby8UhPxFjhkvyVWmCk2Vu\n",
       "8pDIAr7Vwa7zJeG164OVvml5xsgasotJVNTsjo5Ih90Q0kvDxtMQDYA+4LORNdUoSvYOv6EEmApq\n",
       "dYu8nqdsSUzYHytnW4N9ojY//dtA05s5Omo1LvDzua6Sd83FV1X0nD7Co4UJ+u1b1NZFj1PGLATf\n",
       "w0ZrmC/FNa6ZQqS5sVlPq1zxdGQnPIJpXXL8FKUBVhLbFVXN6kvdlCa8sETO+3U9a9wFX1MlQDFU\n",
       "1nWzwLDUhVan0GCAHrFG9qvbEi6dZ6d5wngcO7EyHylkeemoF+KbvVU7RjdEY4O/aUTuEhjQAAAB\n",
       "ZUGeQXiCnwAAAwGG2jsWu6sxvNaHxH+13SHAA9z58CdtLXxOgzP4XdP+6qqjDi7lVyY3F0lAe4q3\n",
       "6kcxjQHHkBTA/v+MFchM3+EJoSiBhNnBpQLcTNkgMu+togjuxwxEXtRmc+kHVlazN/j3w+64brTp\n",
       "z9APYsjwmCISS7sQj3VGwm6IsNvA/uK/d+DSpcYcDnDGGoTHdSvtu6SY/983kJENMZRrzvlZgWZu\n",
       "jAtVuW7EHg7diU7ex5nc7aQi9eomCimFQNXnOufdu6K6yrJ+A7P3rGsxwlszvGaiRXaYF2wgeTl0\n",
       "Q8kktidTwHS2X+N8RYPXL4lOwkc0iqQVmcu+m4buW2FJdgdAq58RS++lsJtkb/nvExbYxTYdJyuf\n",
       "r/WtEmQACHAhLDuLRDClkASi9hoASMbdMkwoy6LfilmIyNP8BUQvonVwurHa6mPZQ8LxQvXiY69U\n",
       "Vl6NbuBcawPpx0EKKEAMqQAAAWsBnmJqQU8AAAMBhsg9wK6CiUB0/4hCIAAXS5fOF6/KTLHTQ2mD\n",
       "RHfIQBp4BAWtM8a97nUGa9smLAflItVVHTHfRAPB6hSwsES8o6gG0Ik7KG1AjKDI5gS8XAeYMVvh\n",
       "gHfNCXfIB5mTVE8Pu8Np+1eE5Q8tVe9kbDWDQTJtXGCorI34iX1MmpBslj3JaNFRqxKbsd3tLMsM\n",
       "YEL/W8MCZhDj4vLr4lYlGZxeJfYM18rsGQ/oRaFJvbMHhMLsBELb2AcBK5a/0axFDl93pCmq3WAA\n",
       "fvHFLVKLFRYvdEdNbuZDjYk8QIsLuPDCNuIMuCleCRUEvLqlw1oBPxCO5ipbonBKaIlNyN5C7lQp\n",
       "nIRQ7vgYbmTrdw+M/rbENk4E45upSzpegi3YKIC8w4GAvQzSEeeRR1vgCFDOzEAxqTm4ZZeQtmwW\n",
       "XbxYW27cgkxN5GUSdYIs561Sar5LFc9bPQQ+8xVECu3+Q3XoXgngAekAAANYbW9vdgAAAGxtdmhk\n",
       "AAAAAAAAAAAAAAAAAAAD6AAAC7gAAQAAAQAAAAAAAAAAAAAAAAEAAAAAAAAAAAAAAAAAAAABAAAA\n",
       "AAAAAAAAAAAAAABAAAAAAAAAAAAAAAAAAAAAAAAAAAAAAAAAAAAAAAAAAgAAAoJ0cmFrAAAAXHRr\n",
       "aGQAAAADAAAAAAAAAAAAAAABAAAAAAAAC7gAAAAAAAAAAAAAAAAAAAAAAAEAAAAAAAAAAAAAAAAA\n",
       "AAABAAAAAAAAAAAAAAAAAABAAAAAAogAAAKIAAAAAAAkZWR0cwAAABxlbHN0AAAAAAAAAAEAAAu4\n",
       "AABgAAABAAAAAAH6bWRpYQAAACBtZGhkAAAAAAAAAAAAAAAAAABAAAAAwABVxAAAAAAALWhkbHIA\n",
       "AAAAAAAAAHZpZGUAAAAAAAAAAAAAAABWaWRlb0hhbmRsZXIAAAABpW1pbmYAAAAUdm1oZAAAAAEA\n",
       "AAAAAAAAAAAAACRkaW5mAAAAHGRyZWYAAAAAAAAAAQAAAAx1cmwgAAAAAQAAAWVzdGJsAAAAtXN0\n",
       "c2QAAAAAAAAAAQAAAKVhdmMxAAAAAAAAAAEAAAAAAAAAAAAAAAAAAAAAAogCiABIAAAASAAAAAAA\n",
       "AAABAAAAAAAAAAAAAAAAAAAAAAAAAAAAAAAAAAAAAAAAAAAAGP//AAAAM2F2Y0MBZAAf/+EAGmdk\n",
       "AB+s2UCkFPllhAAAAwAMAAADACA8YMZYAQAGaOvjyyLAAAAAHHV1aWRraEDyXyRPxbo5pRvPAyPz\n",
       "AAAAAAAAABhzdHRzAAAAAAAAAAEAAAAEAAAwAAAAABRzdHNzAAAAAAAAAAEAAAABAAAAKGN0dHMA\n",
       "AAAAAAAAAwAAAAEAAGAAAAAAAQAAwAAAAAACAAAwAAAAABxzdHNjAAAAAAAAAAEAAAABAAAABAAA\n",
       "AAEAAAAkc3RzegAAAAAAAAAAAAAABAAADWIAAAKwAAABaQAAAW8AAAAUc3RjbwAAAAAAAAABAAAA\n",
       "LAAAAGJ1ZHRhAAAAWm1ldGEAAAAAAAAAIWhkbHIAAAAAAAAAAG1kaXJhcHBsAAAAAAAAAAAAAAAA\n",
       "LWlsc3QAAAAlqXRvbwAAAB1kYXRhAAAAAQAAAABMYXZmNTcuNzYuMTAw\n",
       "\">\n",
       "  Your browser does not support the video tag.\n",
       "</video>"
      ],
      "text/plain": [
       "<IPython.core.display.HTML object>"
      ]
     },
     "execution_count": 829,
     "metadata": {},
     "output_type": "execute_result"
    }
   ],
   "source": [
    "def animate(i, steps):\n",
    "    ax.cla()\n",
    "    \n",
    "    centroids, classification = steps[i]\n",
    "    \n",
    "    ax.set_xlim(x_min - x_margin, x_max + x_margin)\n",
    "    ax.set_ylim(y_min - y_margin, y_max + y_margin)\n",
    "    \n",
    "    for centroid in centroids.values():\n",
    "        x, y = centroid\n",
    "        ax.scatter(x, y, marker='x', color='k', s=200)\n",
    "\n",
    "    for class_, points in classification.items():\n",
    "        color = colors[class_]\n",
    "        points = np.array(points)\n",
    "        x, y = points.T\n",
    "        ax.scatter(x, y, marker='o', color=color, s=150)\n",
    "    return []\n",
    "    \n",
    "\n",
    "fig, ax = plt.subplots()\n",
    "\n",
    "clf = K_Means()\n",
    "clf.fit(X)\n",
    "xs = X[:, 0]\n",
    "ys = X[:, 1]\n",
    "x_max, x_min = max(xs), min(xs)\n",
    "x_margin = 0.1 * x_max\n",
    "y_max, y_min = max(ys), min(ys)\n",
    "y_margin = 0.1 * y_max\n",
    "\n",
    "steps = clf.steps\n",
    "\n",
    "anim = animation.FuncAnimation(fig, animate, frames=len(steps), interval=750, blit=True, fargs=(steps,))\n",
    "\n",
    "plt.close()\n",
    "\n",
    "HTML(anim.to_html5_video())"
   ]
  },
  {
   "cell_type": "markdown",
   "metadata": {},
   "source": [
    "# Compare Manual with Sci Kit Learn"
   ]
  },
  {
   "cell_type": "code",
   "execution_count": 830,
   "metadata": {
    "ExecuteTime": {
     "end_time": "2018-02-01T21:56:40.779207Z",
     "start_time": "2018-02-01T21:56:40.591997Z"
    }
   },
   "outputs": [],
   "source": [
    "df = pd.read_excel('../data/titanic.xls')\n",
    "df = df.fillna(0)"
   ]
  },
  {
   "cell_type": "code",
   "execution_count": 831,
   "metadata": {
    "ExecuteTime": {
     "end_time": "2018-02-01T21:56:41.524741Z",
     "start_time": "2018-02-01T21:56:41.512743Z"
    }
   },
   "outputs": [],
   "source": [
    "dropped_columns = ['name', 'survived', 'body', 'ticket', 'home.dest', 'cabin']\n",
    "\n",
    "text_columns = [col for col in df.columns if df[col].dtype not in [np.int64, np.float64]]\n",
    "dummy_columns = [col for col in text_columns if col not in dropped_columns]"
   ]
  },
  {
   "cell_type": "code",
   "execution_count": 832,
   "metadata": {
    "ExecuteTime": {
     "end_time": "2018-02-01T21:56:42.123001Z",
     "start_time": "2018-02-01T21:56:42.091982Z"
    }
   },
   "outputs": [],
   "source": [
    "X_df = df.drop(dropped_columns, 1)\n",
    "X_df = pd.get_dummies(X_df, columns=dummy_columns, drop_first=True)\n",
    "\n",
    "X = np.array(X_df).astype(float)\n",
    "X = preprocessing.scale(X)\n",
    "\n",
    "y = np.array(df['survived']).reshape(-1, 1)"
   ]
  },
  {
   "cell_type": "markdown",
   "metadata": {},
   "source": [
    "## Comparing Speed"
   ]
  },
  {
   "cell_type": "markdown",
   "metadata": {},
   "source": [
    "### Sci-Kit Learn"
   ]
  },
  {
   "cell_type": "code",
   "execution_count": 833,
   "metadata": {
    "ExecuteTime": {
     "end_time": "2018-02-01T21:56:47.707820Z",
     "start_time": "2018-02-01T21:56:44.104761Z"
    }
   },
   "outputs": [
    {
     "name": "stdout",
     "output_type": "stream",
     "text": [
      "446 ms ± 34.2 ms per loop (mean ± std. dev. of 7 runs, 1 loop each)\n"
     ]
    }
   ],
   "source": [
    "%timeit KMeans_process(X, y)"
   ]
  },
  {
   "cell_type": "markdown",
   "metadata": {},
   "source": [
    "### Manual "
   ]
  },
  {
   "cell_type": "code",
   "execution_count": 834,
   "metadata": {
    "ExecuteTime": {
     "end_time": "2018-02-01T21:56:57.474468Z",
     "start_time": "2018-02-01T21:56:49.791823Z"
    }
   },
   "outputs": [
    {
     "name": "stdout",
     "output_type": "stream",
     "text": [
      "95.3 ms ± 9.31 ms per loop (mean ± std. dev. of 7 runs, 10 loops each)\n"
     ]
    }
   ],
   "source": [
    "%timeit KMeans_process(X, y, call=K_Means )"
   ]
  },
  {
   "cell_type": "markdown",
   "metadata": {},
   "source": [
    "## Comparing Accuracy"
   ]
  },
  {
   "cell_type": "code",
   "execution_count": 836,
   "metadata": {
    "ExecuteTime": {
     "end_time": "2018-02-01T21:57:02.483223Z",
     "start_time": "2018-02-01T21:57:01.985648Z"
    }
   },
   "outputs": [
    {
     "data": {
      "text/plain": [
       "0.7188693659281895"
      ]
     },
     "execution_count": 836,
     "metadata": {},
     "output_type": "execute_result"
    }
   ],
   "source": [
    "KMeans_process(X, y)"
   ]
  },
  {
   "cell_type": "code",
   "execution_count": 835,
   "metadata": {
    "ExecuteTime": {
     "end_time": "2018-02-01T21:56:59.265448Z",
     "start_time": "2018-02-01T21:56:59.141293Z"
    }
   },
   "outputs": [
    {
     "data": {
      "text/plain": [
       "0.6455309396485867"
      ]
     },
     "execution_count": 835,
     "metadata": {},
     "output_type": "execute_result"
    }
   ],
   "source": [
    "KMeans_process(X, y, call=K_Means)"
   ]
  },
  {
   "cell_type": "code",
   "execution_count": 837,
   "metadata": {
    "ExecuteTime": {
     "end_time": "2018-02-01T21:57:15.610200Z",
     "start_time": "2018-02-01T21:57:04.245407Z"
    }
   },
   "outputs": [
    {
     "name": "stdout",
     "output_type": "stream",
     "text": [
      "One Shot Accuracy Manual KMeans: 62.57%\n",
      "One Shot Accuracy SKlearn KMeans: 72.73%\n",
      "The manual KMeans was -6.1% better than SKLearn\n"
     ]
    }
   ],
   "source": [
    "acc_sklearn = KMeans_process(X, y)\n",
    "acc_manual = KMeans_process(X, y, call=K_Means)\n",
    "print(f'One Shot Accuracy Manual KMeans: {round(acc_manual * 100, 2)}%')\n",
    "print(f'One Shot Accuracy SKlearn KMeans: {round(acc_sklearn * 100, 2)}%')\n",
    "\n",
    "better = 0\n",
    "n = 20\n",
    "for i in range(n):\n",
    "    acc_sklearn = KMeans_process(X, y)\n",
    "    acc_manual = KMeans_process(X, y, call=K_Means)\n",
    "    better += (acc_manual - acc_sklearn) / acc_sklearn\n",
    "print(f'The manual KMeans was {round(better*100/n, 2)}% better than SKLearn')"
   ]
  }
 ],
 "metadata": {
  "kernelspec": {
   "display_name": "Python 3",
   "language": "python",
   "name": "python3"
  },
  "language_info": {
   "codemirror_mode": {
    "name": "ipython",
    "version": 3
   },
   "file_extension": ".py",
   "mimetype": "text/x-python",
   "name": "python",
   "nbconvert_exporter": "python",
   "pygments_lexer": "ipython3",
   "version": "3.6.4"
  },
  "toc": {
   "colors": {
    "hover_highlight": "#DAA520",
    "navigate_num": "#000000",
    "navigate_text": "#333333",
    "running_highlight": "#FF0000",
    "selected_highlight": "#FFD700",
    "sidebar_border": "#EEEEEE",
    "wrapper_background": "#FFFFFF"
   },
   "moveMenuLeft": true,
   "nav_menu": {
    "height": "12px",
    "width": "252px"
   },
   "navigate_menu": true,
   "number_sections": true,
   "sideBar": true,
   "threshold": 4,
   "toc_cell": true,
   "toc_section_display": "block",
   "toc_window_display": false,
   "widenNotebook": false
  },
  "varInspector": {
   "cols": {
    "lenName": 16,
    "lenType": 16,
    "lenVar": 40
   },
   "kernels_config": {
    "python": {
     "delete_cmd_postfix": "",
     "delete_cmd_prefix": "del ",
     "library": "var_list.py",
     "varRefreshCmd": "print(var_dic_list())"
    },
    "r": {
     "delete_cmd_postfix": ") ",
     "delete_cmd_prefix": "rm(",
     "library": "var_list.r",
     "varRefreshCmd": "cat(var_dic_list()) "
    }
   },
   "types_to_exclude": [
    "module",
    "function",
    "builtin_function_or_method",
    "instance",
    "_Feature"
   ],
   "window_display": false
  }
 },
 "nbformat": 4,
 "nbformat_minor": 2
}
