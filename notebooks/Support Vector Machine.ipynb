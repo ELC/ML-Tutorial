{
 "cells": [
  {
   "cell_type": "markdown",
   "metadata": {},
   "source": [
    "Enable Equation Numbering in $\\LaTeX$"
   ]
  },
  {
   "cell_type": "code",
   "execution_count": 1,
   "metadata": {
    "ExecuteTime": {
     "end_time": "2018-01-30T23:48:18.947574Z",
     "start_time": "2018-01-30T23:48:18.913572Z"
    }
   },
   "outputs": [
    {
     "data": {
      "application/javascript": [
       "    MathJax.Hub.Config({\n",
       "      TeX: { equationNumbers: { autoNumber: \"AMS\" } }\n",
       "    });"
      ],
      "text/plain": [
       "<IPython.core.display.Javascript object>"
      ]
     },
     "metadata": {},
     "output_type": "display_data"
    }
   ],
   "source": [
    "%%javascript\n",
    "    MathJax.Hub.Config({\n",
    "      TeX: { equationNumbers: { autoNumber: \"AMS\" } }\n",
    "    });"
   ]
  },
  {
   "cell_type": "markdown",
   "metadata": {},
   "source": [
    "## Math Fundamentals"
   ]
  },
  {
   "cell_type": "markdown",
   "metadata": {},
   "source": [
    "First we define this definition\n",
    "\\begin{equation}\n",
    "(\\vec{w} \\cdot \\vec{u} + b) \\geq 0 \\implies + \n",
    "\\end{equation}\n",
    "\n",
    "We add $y_i$ for mathematical convenience\n",
    "\n",
    "\\begin{equation}\n",
    "y_i ( \\vec{x}_i \\cdot \\vec{w} + b) -1 = 0 \n",
    "\\end{equation}\n",
    "\n",
    "Calculate the width of the street \n",
    "\n",
    "\\begin{equation}\n",
    "width = (\\vec{x}_+ - \\vec{x}_-) \\cdot \\frac{\\vec{w}}{||\\vec{w}||}\n",
    "\\end{equation}\n",
    "\n",
    "$$ width = \\frac{\\vec{x}_+ \\cdot \\vec{w} - \\vec{x}_- \\cdot \\vec{w}}{||\\vec{w}||}$$\n",
    "\n",
    "$$ \\vec{x}_i \\cdot \\vec{w} = \\frac{1}{y_i} - b  $$\n",
    "\n",
    "$$ \\vec{x}_+ \\cdot \\vec{w} = 1 - b , \\vec{x}_- \\cdot \\vec{w} = -1 - b $$\n",
    "\n",
    "$$ width = \\frac{1 - b - (-1 - b)}{||\\vec{w}||}$$\n",
    "\n",
    "$$ width = \\frac{1 - b + 1 + b}{||\\vec{w}||}$$\n",
    "\n",
    "And we end up with\n",
    "\n",
    "\\begin{equation}\n",
    "width = \\frac{2}{||\\vec{w}||}\n",
    "\\end{equation}\n",
    "\n",
    "\n",
    "Now we have to maximaze that width so:\n",
    "\n",
    "$$ Max(width) \\rightarrow Max \\big( \\frac{2}{||\\vec{w}||} \\big) \\rightarrow Max \\big( \\frac{1}{||\\vec{w}||} \\big) $$\n",
    "\n",
    "$$ Max \\big( \\frac{1}{||\\vec{w}||} \\big) \\rightarrow Min (||\\vec{w}||) \\rightarrow Min \\big( \\frac{1}{2} ||\\vec{w}|| \\big) \\rightarrow Min \\big( \\frac{1}{2} {||\\vec{w}||}^2 \\big)$$\n",
    "\n",
    "Applying Lagrange Multipliers\n",
    "\n",
    "\\begin{equation}\n",
    "L = \\frac{1}{2} {||\\vec{w}||}^2 - \\sum{ \\alpha_i [y_i ( \\vec{x}_i \\cdot \\vec{w} + b) -1]}\n",
    "\\end{equation}\n",
    "\n",
    "$$\n",
    "\\frac{\\partial L}{\\partial \\vec{w}} = \\vec{w} - \\sum{\\alpha_i y_i x_i} = 0 \\implies \\vec{w} = \\sum{\\alpha_i y_i x_i}\n",
    "$$\n",
    "\n",
    "$$\n",
    "\\frac{\\partial L}{\\partial b} = - \\sum{\\alpha_i y_i} = 0 \\implies \\sum{\\alpha_i y_i} = 0\n",
    "$$\n",
    "\n",
    "\\begin{equation}\n",
    "L = \\frac{1}{2} \\big( \\sum{\\alpha_i y_i \\vec{x}_i}\\big) \\big(\\sum{\\alpha_i y_i \\vec{x}_i}\\big) - \\sum{ \\alpha_i [y_i ( \\vec{x}_i \\cdot \\sum{\\alpha_i y_i \\vec{x}_i} + b) -1]}\n",
    "\\end{equation}\n",
    "\n",
    "\\begin{equation}\n",
    "L = \\frac{1}{2} \\big( \\sum{\\alpha_i y_i \\vec{x}_i}\\big) \\big(\\sum{\\alpha_i y_i \\vec{x}_i}\\big) - \\big( \\sum{ \\alpha_i y_i \\vec{x}_i} \\big) \\cdot \\big(\\sum{ \\alpha_i y_i \\vec{x}_i} \\big) - \\sum{ \\alpha_i y_i b} + \\sum{ \\alpha_i}\n",
    "\\end{equation}\n",
    "\n",
    "\\begin{equation}\n",
    "L = \\sum{ \\alpha_i} - \\frac{1}{2} \\sum_i \\sum_j \\alpha_i \\alpha_j y_i y_j \\vec{x}_i \\cdot \\vec{x}_j\n",
    "\\end{equation}\n",
    "\n",
    "\\begin{equation}\n",
    "\\sum{\\alpha_i y_i \\vec{x}_i} \\cdot \\vec{u} + b \\geq 0 \\implies + \n",
    "\\end{equation}\n",
    "\n",
    "So we conclude that the minimization is basically the dot product"
   ]
  },
  {
   "cell_type": "markdown",
   "metadata": {},
   "source": [
    "## Initialization"
   ]
  },
  {
   "cell_type": "code",
   "execution_count": 3,
   "metadata": {
    "ExecuteTime": {
     "end_time": "2018-01-31T23:37:27.861725Z",
     "start_time": "2018-01-31T23:37:23.464416Z"
    }
   },
   "outputs": [],
   "source": [
    "import pandas as pd\n",
    "import matplotlib.pyplot as plt\n",
    "import bqplot.pyplot as bplt\n",
    "import numpy as np"
   ]
  },
  {
   "cell_type": "code",
   "execution_count": 51,
   "metadata": {
    "ExecuteTime": {
     "end_time": "2018-02-01T00:55:15.198925Z",
     "start_time": "2018-02-01T00:55:14.571708Z"
    }
   },
   "outputs": [],
   "source": [
    "class Support_Vector_Machine():\n",
    "\n",
    "    def __init__(self, visualization=True):\n",
    "        self.visualization = visualization\n",
    "        self.colors = {1: 'r', -1: 'b'}\n",
    "        if self.visualization:\n",
    "            self.fig = plt.figure()\n",
    "            self.ax = self.fig.add_subplot(1, 1, 1)\n",
    "\n",
    "    def fit(self, data):\n",
    "        self.data = data\n",
    "\n",
    "        # { ||w|| : [w, b]}\n",
    "        opt_dict = {}\n",
    "        transforms = [\n",
    "            [1, 1],\n",
    "            [-1, 1],\n",
    "            [-1, -1],\n",
    "            [1, -1],            \n",
    "        ]\n",
    "\n",
    "        all_data = np.array(list(self.data.values())).flatten()\n",
    "\n",
    "        self.max_feature_value = max(all_data)\n",
    "        self.min_feature_value = min(all_data)\n",
    "        all_data = None\n",
    "\n",
    "        step_sizes = [self.max_feature_value * 0.1,\n",
    "                      self.max_feature_value * 0.01,\n",
    "                      self.max_feature_value * 0.001,\n",
    "                      ]\n",
    "\n",
    "        b_range_multiple = 5\n",
    "\n",
    "        b_multiple = 5\n",
    "\n",
    "        latest_optimum = self.max_feature_value * 10\n",
    "\n",
    "        limit = self.max_feature_value * b_range_multiple\n",
    "\n",
    "        for step in step_sizes:\n",
    "            w = np.array([latest_optimum, latest_optimum])\n",
    "            while True:\n",
    "                for b in np.arange(-limit, limit, step * b_multiple):\n",
    "                    for transformation in transforms:\n",
    "                        w_t = w * transformation\n",
    "                        found_option = True\n",
    "                        # weakest link\n",
    "                        # y_i(x_i.w +b) >= 1\n",
    "                        for i in self.data:\n",
    "                            for xi in self.data[i]:\n",
    "                                yi = i\n",
    "                                if not yi * (np.dot(w_t, xi) + b) >= 1:\n",
    "                                    found_option = False\n",
    "                                    break\n",
    "                            else:\n",
    "                                continue\n",
    "                            break\n",
    "\n",
    "                        if found_option:\n",
    "                            opt_dict[np.linalg.norm(w_t)] = [w_t, b]\n",
    "\n",
    "                if w[0] < 0:\n",
    "                    break\n",
    "                w = w - step\n",
    "\n",
    "            norms = sorted(n for n in opt_dict)\n",
    "\n",
    "            self.w, self.b = opt_dict[norms[0]]\n",
    "\n",
    "            latest_optimum = self.w[0] - step * 2\n",
    "        \n",
    "        for i in self.data:\n",
    "            for xi in self.data[i]:\n",
    "                print(f'{xi} : {yi * (np.dot(self.w, xi) + self.b)}')\n",
    "        \n",
    "        print(f'b: {self.b} | w: {self.w}')\n",
    "        print(f'||w|| : {np.linalg.norm(self.w)}')\n",
    "        if np.dot(self.w, np.array([1,0])) == 0:\n",
    "            print(\"angle:\",90)\n",
    "        else:\n",
    "            print(f'angle: {np.degrees(np.arctan(self.w[1]/self.w[0]))}')\n",
    "\n",
    "    def predict(self, features):\n",
    "        classification = np.sign(np.dot(np.array(features), self.w) + self.b)\n",
    "        if classification != 0 and self.visualization:\n",
    "            self.ax.scatter(features[0], features[1], marker='*',\n",
    "                            s=200, c=self.colors[classification])\n",
    "        return classification\n",
    "\n",
    "    def visualize(self):\n",
    "        [[self.ax.scatter(x[0], x[1], s=100, color=self.colors[i])\n",
    "          for x in data_dict[i]]\n",
    "         for i in data_dict]\n",
    "        \n",
    "        xs, ys = zip(*[j for i in data_dict.values() for j in i])\n",
    "        \n",
    "        x_max, y_max = max(xs), max(ys)\n",
    "        x_min, y_min = min(xs), min(ys)\n",
    "        \n",
    "        x_margin = x_max*0.2\n",
    "        y_margin = y_max*0.2\n",
    "        \n",
    "        xlist = np.linspace(x_min-x_margin, x_max+x_margin, 100)\n",
    "        ylist = np.linspace(y_min-y_margin, y_max+y_margin, 100)\n",
    "        \n",
    "        X,Y = np.meshgrid(xlist, ylist)\n",
    "        \n",
    "        F = self.w[0]*X + self.w[1]*Y + self.b  #  Hyperplane Equation\n",
    "        plt.contour(X, Y, F, [1], colors = 'r', linestyles = 'solid')       \n",
    "        plt.contour(X, Y, F, [-1], colors = 'b', linestyles = 'solid')\n",
    "        plt.contour(X, Y, F, [0], colors = 'k', linestyles = 'dashed')\n",
    "\n",
    "        plt.show()"
   ]
  },
  {
   "cell_type": "code",
   "execution_count": 199,
   "metadata": {
    "ExecuteTime": {
     "end_time": "2018-01-31T16:05:46.440394Z",
     "start_time": "2018-01-31T16:05:46.432394Z"
    }
   },
   "outputs": [
    {
     "data": {
      "text/plain": [
       "False"
      ]
     },
     "execution_count": 199,
     "metadata": {},
     "output_type": "execute_result"
    }
   ],
   "source": [
    "all(np.arange(-100, 100, 1) + 5 > 50)"
   ]
  },
  {
   "cell_type": "code",
   "execution_count": 38,
   "metadata": {
    "ExecuteTime": {
     "end_time": "2018-02-01T00:43:36.238495Z",
     "start_time": "2018-02-01T00:43:36.231494Z"
    }
   },
   "outputs": [],
   "source": [
    "data_dict = {\n",
    "    -1:[\n",
    "        [1,7],\n",
    "        [2,8],\n",
    "        [3,8],\n",
    "    ],\n",
    "    1:[\n",
    "        [5, 1],\n",
    "        [6, -1],\n",
    "        [7, 3],\n",
    "    ]\n",
    "}"
   ]
  },
  {
   "cell_type": "code",
   "execution_count": 305,
   "metadata": {
    "ExecuteTime": {
     "end_time": "2018-01-31T17:19:09.817418Z",
     "start_time": "2018-01-31T17:19:06.041988Z"
    }
   },
   "outputs": [
    {
     "name": "stdout",
     "output_type": "stream",
     "text": [
      "4.65 µs ± 156 ns per loop (mean ± std. dev. of 7 runs, 100000 loops each)\n"
     ]
    }
   ],
   "source": [
    "%timeit np.array([j for i in [[key] * len(values) for key, values in data_dict.items()] for j in i])"
   ]
  },
  {
   "cell_type": "code",
   "execution_count": 306,
   "metadata": {
    "ExecuteTime": {
     "end_time": "2018-01-31T17:19:20.947890Z",
     "start_time": "2018-01-31T17:19:15.597555Z"
    }
   },
   "outputs": [
    {
     "name": "stdout",
     "output_type": "stream",
     "text": [
      "6.57 µs ± 70.8 ns per loop (mean ± std. dev. of 7 runs, 100000 loops each)\n"
     ]
    }
   ],
   "source": [
    "%timeit np.array([[key] * len(values) for key, values in data_dict.items()]).flatten()"
   ]
  },
  {
   "cell_type": "code",
   "execution_count": 310,
   "metadata": {
    "ExecuteTime": {
     "end_time": "2018-01-31T17:21:59.559070Z",
     "start_time": "2018-01-31T17:21:53.566773Z"
    }
   },
   "outputs": [
    {
     "name": "stdout",
     "output_type": "stream",
     "text": [
      "7.36 µs ± 176 ns per loop (mean ± std. dev. of 7 runs, 100000 loops each)\n"
     ]
    }
   ],
   "source": [
    "%%timeit\n",
    "yi = []\n",
    "for key, lenght in zip(data_dict.keys(), map(len, data_dict.values())):\n",
    "    yi.append([key] * lenght)\n",
    "np.array(yi).flatten()"
   ]
  },
  {
   "cell_type": "code",
   "execution_count": 285,
   "metadata": {
    "ExecuteTime": {
     "end_time": "2018-01-31T17:09:46.338518Z",
     "start_time": "2018-01-31T17:09:46.323518Z"
    }
   },
   "outputs": [
    {
     "data": {
      "text/plain": [
       "array([-1, -1,  1,  1])"
      ]
     },
     "execution_count": 285,
     "metadata": {},
     "output_type": "execute_result"
    }
   ],
   "source": [
    "yi = np.array([j for i in [[key] * len(values) for key, values in data_dict.items()] for j in i])\n",
    "\n",
    "yi = np.array([[key] * len(values) for key, values in data_dict.items()]).flatten()\n",
    "\n",
    "yi"
   ]
  },
  {
   "cell_type": "code",
   "execution_count": 301,
   "metadata": {
    "ExecuteTime": {
     "end_time": "2018-01-31T17:17:20.032994Z",
     "start_time": "2018-01-31T17:17:15.329893Z"
    }
   },
   "outputs": [
    {
     "name": "stdout",
     "output_type": "stream",
     "text": [
      "5.81 µs ± 222 ns per loop (mean ± std. dev. of 7 runs, 100000 loops each)\n"
     ]
    }
   ],
   "source": [
    "%timeit np.array([j for i in [values for key, values in data_dict.items()] for j in i])"
   ]
  },
  {
   "cell_type": "code",
   "execution_count": 302,
   "metadata": {
    "ExecuteTime": {
     "end_time": "2018-01-31T17:17:28.910329Z",
     "start_time": "2018-01-31T17:17:24.544683Z"
    }
   },
   "outputs": [
    {
     "name": "stdout",
     "output_type": "stream",
     "text": [
      "5.35 µs ± 42.4 ns per loop (mean ± std. dev. of 7 runs, 100000 loops each)\n"
     ]
    }
   ],
   "source": [
    "%timeit np.array([j for i in [values for values in data_dict.values()] for j in i])"
   ]
  },
  {
   "cell_type": "code",
   "execution_count": 300,
   "metadata": {
    "ExecuteTime": {
     "end_time": "2018-01-31T17:16:50.517370Z",
     "start_time": "2018-01-31T17:16:43.424279Z"
    }
   },
   "outputs": [
    {
     "name": "stdout",
     "output_type": "stream",
     "text": [
      "875 ns ± 35 ns per loop (mean ± std. dev. of 7 runs, 1000000 loops each)\n"
     ]
    }
   ],
   "source": [
    "%timeit [i for values in data_dict.values() for i in values]"
   ]
  },
  {
   "cell_type": "code",
   "execution_count": 298,
   "metadata": {
    "ExecuteTime": {
     "end_time": "2018-01-31T17:16:17.895159Z",
     "start_time": "2018-01-31T17:16:17.882158Z"
    }
   },
   "outputs": [
    {
     "data": {
      "text/plain": [
       "[[0, 0], [1, 0], [0.8660254, 0.5], [2, 2]]"
      ]
     },
     "execution_count": 298,
     "metadata": {},
     "output_type": "execute_result"
    }
   ],
   "source": [
    "xi = np.array([j for i in [values for key, values in data_dict.items()] for j in i])\n",
    "\n",
    "xi = [i for values in data_dict.values() for i in values]\n",
    "\n",
    "xi"
   ]
  },
  {
   "cell_type": "code",
   "execution_count": 254,
   "metadata": {
    "ExecuteTime": {
     "end_time": "2018-01-31T16:38:16.373371Z",
     "start_time": "2018-01-31T16:38:16.364370Z"
    }
   },
   "outputs": [
    {
     "data": {
      "text/plain": [
       "array([ 0.       ,  0.       ,  1.       ,  1.       ,  0.8660254,  0.5      ])"
      ]
     },
     "execution_count": 254,
     "metadata": {},
     "output_type": "execute_result"
    }
   ],
   "source": [
    "np.array([k for i in list(data_dict.values()) for j in i for k in j])"
   ]
  },
  {
   "cell_type": "code",
   "execution_count": 237,
   "metadata": {
    "ExecuteTime": {
     "end_time": "2018-01-31T16:30:06.577786Z",
     "start_time": "2018-01-31T16:30:06.570786Z"
    }
   },
   "outputs": [
    {
     "data": {
      "text/plain": [
       "[3, 3, 3]"
      ]
     },
     "execution_count": 237,
     "metadata": {},
     "output_type": "execute_result"
    }
   ],
   "source": [
    "[3] * 3"
   ]
  },
  {
   "cell_type": "code",
   "execution_count": 241,
   "metadata": {
    "ExecuteTime": {
     "end_time": "2018-01-31T16:32:31.981539Z",
     "start_time": "2018-01-31T16:32:31.971538Z"
    }
   },
   "outputs": [
    {
     "data": {
      "text/plain": [
       "[array([0, 0]), array([1, 1]), array([ 0.8660254,  0.5      ])]"
      ]
     },
     "execution_count": 241,
     "metadata": {},
     "output_type": "execute_result"
    }
   ],
   "source": [
    "[j for i in [values for key, values in data_dict.items()] for j in i]"
   ]
  },
  {
   "cell_type": "code",
   "execution_count": 236,
   "metadata": {
    "ExecuteTime": {
     "end_time": "2018-01-31T16:23:09.775400Z",
     "start_time": "2018-01-31T16:23:09.763399Z"
    }
   },
   "outputs": [
    {
     "data": {
      "text/plain": [
       "array([ True, False, False,  True,  True], dtype=bool)"
      ]
     },
     "execution_count": 236,
     "metadata": {},
     "output_type": "execute_result"
    }
   ],
   "source": [
    "a = np.array([1,1])\n",
    "b = np.array([\n",
    "    [1,1],\n",
    "    [0,1],\n",
    "    [0,0],\n",
    "    [1,1],\n",
    "    [1,1],\n",
    "])\n",
    "np.dot(b, a) > 1"
   ]
  },
  {
   "cell_type": "code",
   "execution_count": 52,
   "metadata": {
    "ExecuteTime": {
     "end_time": "2018-02-01T00:55:30.949893Z",
     "start_time": "2018-02-01T00:55:18.783472Z"
    }
   },
   "outputs": [
    {
     "name": "stdout",
     "output_type": "stream",
     "text": [
      "[1, 7] : 1.2239999999999513\n",
      "[2, 8] : 1.2239999999999511\n",
      "[3, 8] : 1.0000000000001017\n",
      "[5, 1] : -1.015999999998542\n",
      "[6, -1] : -1.6879999999980901\n",
      "[7, 3] : -1.015999999998542\n",
      "b: 0.11999999999914479 | w: [ 0.224 -0.224]\n",
      "||w|| : 0.3167838379713602\n",
      "angle: -45.0\n"
     ]
    },
    {
     "data": {
      "image/png": "[encoded data removed]",
      "text/plain": [
       "<matplotlib.figure.Figure at 0x1fb0193b518>"
      ]
     },
     "metadata": {},
     "output_type": "display_data"
    }
   ],
   "source": [
    "svm = Support_Vector_Machine()\n",
    "svm.fit(data_dict)\n",
    "\n",
    "predict_us = [\n",
    "    [0, 4],\n",
    "    [1, 3],\n",
    "    [3, 4],\n",
    "    [3, 5],\n",
    "    [5, 5],\n",
    "    [5, 6],\n",
    "    [6, -2],\n",
    "    [5, 8],\n",
    "]\n",
    "\n",
    "for p in predict_us:\n",
    "    svm.predict(p)\n",
    "svm.visualize()"
   ]
  },
  {
   "cell_type": "code",
   "execution_count": 50,
   "metadata": {
    "ExecuteTime": {
     "end_time": "2018-02-01T00:54:54.286613Z",
     "start_time": "2018-02-01T00:54:42.386024Z"
    }
   },
   "outputs": [
    {
     "ename": "AttributeError",
     "evalue": "'Support_Vector_Machine' object has no attribute 'w_t'",
     "output_type": "error",
     "traceback": [
      "\u001b[1;31m---------------------------------------------------------------------------\u001b[0m",
      "\u001b[1;31mAttributeError\u001b[0m                            Traceback (most recent call last)",
      "\u001b[1;32m<ipython-input-50-6cb01b92419e>\u001b[0m in \u001b[0;36m<module>\u001b[1;34m()\u001b[0m\n\u001b[0;32m      1\u001b[0m \u001b[0msvm\u001b[0m \u001b[1;33m=\u001b[0m \u001b[0mSupport_Vector_Machine\u001b[0m\u001b[1;33m(\u001b[0m\u001b[1;33m)\u001b[0m\u001b[1;33m\u001b[0m\u001b[0m\n\u001b[1;32m----> 2\u001b[1;33m \u001b[0msvm\u001b[0m\u001b[1;33m.\u001b[0m\u001b[0mfit\u001b[0m\u001b[1;33m(\u001b[0m\u001b[0mdata_dict\u001b[0m\u001b[1;33m)\u001b[0m\u001b[1;33m\u001b[0m\u001b[0m\n\u001b[0m\u001b[0;32m      3\u001b[0m \u001b[0msvm\u001b[0m\u001b[1;33m.\u001b[0m\u001b[0mvisualize\u001b[0m\u001b[1;33m(\u001b[0m\u001b[1;33m)\u001b[0m\u001b[1;33m\u001b[0m\u001b[0m\n",
      "\u001b[1;32m<ipython-input-49-ee01ccf47ed5>\u001b[0m in \u001b[0;36mfit\u001b[1;34m(self, data)\u001b[0m\n\u001b[0;32m     73\u001b[0m         \u001b[1;32mfor\u001b[0m \u001b[0mi\u001b[0m \u001b[1;32min\u001b[0m \u001b[0mself\u001b[0m\u001b[1;33m.\u001b[0m\u001b[0mdata\u001b[0m\u001b[1;33m:\u001b[0m\u001b[1;33m\u001b[0m\u001b[0m\n\u001b[0;32m     74\u001b[0m             \u001b[1;32mfor\u001b[0m \u001b[0mxi\u001b[0m \u001b[1;32min\u001b[0m \u001b[0mself\u001b[0m\u001b[1;33m.\u001b[0m\u001b[0mdata\u001b[0m\u001b[1;33m[\u001b[0m\u001b[0mi\u001b[0m\u001b[1;33m]\u001b[0m\u001b[1;33m:\u001b[0m\u001b[1;33m\u001b[0m\u001b[0m\n\u001b[1;32m---> 75\u001b[1;33m                 \u001b[0mprint\u001b[0m\u001b[1;33m(\u001b[0m\u001b[1;34mf'{xi} : {yi * (np.dot(self.w_t, xi) + selfb)}'\u001b[0m\u001b[1;33m)\u001b[0m\u001b[1;33m\u001b[0m\u001b[0m\n\u001b[0m\u001b[0;32m     76\u001b[0m \u001b[1;33m\u001b[0m\u001b[0m\n\u001b[0;32m     77\u001b[0m         \u001b[0mprint\u001b[0m\u001b[1;33m(\u001b[0m\u001b[1;34mf'b: {self.b} | w: {self.w}'\u001b[0m\u001b[1;33m)\u001b[0m\u001b[1;33m\u001b[0m\u001b[0m\n",
      "\u001b[1;31mAttributeError\u001b[0m: 'Support_Vector_Machine' object has no attribute 'w_t'"
     ]
    },
    {
     "data": {
      "image/png": "[encoded data removed]",
      "text/plain": [
       "<matplotlib.figure.Figure at 0x1fb02bab6a0>"
      ]
     },
     "metadata": {},
     "output_type": "display_data"
    }
   ],
   "source": [
    "svm = Support_Vector_Machine()\n",
    "svm.fit(data_dict)\n",
    "svm.visualize()"
   ]
  },
  {
   "cell_type": "code",
   "execution_count": 39,
   "metadata": {
    "ExecuteTime": {
     "end_time": "2018-01-31T03:29:27.160646Z",
     "start_time": "2018-01-31T03:29:17.886160Z"
    }
   },
   "outputs": [
    {
     "data": {
      "image/png": "[encoded data removed]",
      "text/plain": [
       "<matplotlib.figure.Figure at 0x1e6a01aac18>"
      ]
     },
     "metadata": {},
     "output_type": "display_data"
    }
   ],
   "source": [
    "svm = Support_Vector_Machine()\n",
    "svm.fit(data_dict)\n",
    "svm.visualize()"
   ]
  },
  {
   "cell_type": "code",
   "execution_count": 131,
   "metadata": {
    "ExecuteTime": {
     "end_time": "2018-01-31T15:22:32.799907Z",
     "start_time": "2018-01-31T15:22:32.778906Z"
    }
   },
   "outputs": [
    {
     "data": {
      "text/plain": [
       "array([ 0.5      ,  0.8660254])"
      ]
     },
     "execution_count": 131,
     "metadata": {},
     "output_type": "execute_result"
    }
   ],
   "source": [
    "v = np.array([1, 0])\n",
    "angle = 60\n",
    "angle_r = np.radians(angle)\n",
    "m = np.array([\n",
    "    [np.cos(angle_r), -np.sin(angle_r)],\n",
    "    [np.sin(angle_r), np.cos(angle_r)]\n",
    "])\n",
    "\n",
    "\n",
    "nv = np.matmul(m, v.T)\n",
    "\n",
    "nv[np.abs(nv) < 1e-3] = 0\n",
    "\n",
    "nv"
   ]
  },
  {
   "cell_type": "code",
   "execution_count": 130,
   "metadata": {
    "ExecuteTime": {
     "end_time": "2018-01-31T15:19:44.844710Z",
     "start_time": "2018-01-31T15:19:44.833709Z"
    }
   },
   "outputs": [
    {
     "data": {
      "text/plain": [
       "(array([ 0.8660254,  0.5      ]), 30.000000108416181)"
      ]
     },
     "execution_count": 130,
     "metadata": {},
     "output_type": "execute_result"
    }
   ],
   "source": [
    "v = np.array([1, 1])\n",
    "m = np.array([0.8660254,  0.5])\n",
    "d = m * v\n",
    "d, np.degrees(np.arctan(d[1]/d[0]))"
   ]
  },
  {
   "cell_type": "code",
   "execution_count": 53,
   "metadata": {
    "ExecuteTime": {
     "end_time": "2018-02-01T01:07:03.741878Z",
     "start_time": "2018-02-01T01:07:03.732878Z"
    }
   },
   "outputs": [],
   "source": [
    "import numpy as np\n",
    "\n",
    "def func(X):\n",
    "    w = X[0]\n",
    "    b = X[1]\n",
    "    L = X[2] # this is the multiplier. lambda is a reserved keyword in python\n",
    "    return 1/np.linalg.norm(w) + L * ()"
   ]
  },
  {
   "cell_type": "code",
   "execution_count": 54,
   "metadata": {
    "ExecuteTime": {
     "end_time": "2018-02-01T01:07:09.955242Z",
     "start_time": "2018-02-01T01:07:09.944241Z"
    }
   },
   "outputs": [],
   "source": [
    "def dfunc(X):\n",
    "    dLambda = np.zeros(len(X))\n",
    "    h = 1e-3 # this is the step size used in the finite difference.\n",
    "    for i in range(len(X)):\n",
    "        dX = np.zeros(len(X))\n",
    "        dX[i] = h\n",
    "        dLambda[i] = (func(X+dX)-func(X-dX))/(2*h);\n",
    "    return dLambda"
   ]
  },
  {
   "cell_type": "code",
   "execution_count": 56,
   "metadata": {
    "ExecuteTime": {
     "end_time": "2018-02-01T01:07:39.190277Z",
     "start_time": "2018-02-01T01:07:37.350085Z"
    }
   },
   "outputs": [
    {
     "name": "stdout",
     "output_type": "stream",
     "text": [
      "[ 0.70710678  0.70710678 -0.70710678] 1.41421356237\n",
      "[-0.70710678 -0.70710678  0.70710678] -1.41421356237\n"
     ]
    }
   ],
   "source": [
    "from scipy.optimize import fsolve\n",
    "\n",
    "X1 = fsolve(dfunc, [1, 1, 0])\n",
    "print(X1, func(X1))\n",
    "\n",
    "# this is the min\n",
    "X2 = fsolve(dfunc, [-1, -1, 0])\n",
    "print(X2, func(X2))"
   ]
  }
 ],
 "metadata": {
  "kernelspec": {
   "display_name": "Python 3",
   "language": "python",
   "name": "python3"
  },
  "language_info": {
   "codemirror_mode": {
    "name": "ipython",
    "version": 3
   },
   "file_extension": ".py",
   "mimetype": "text/x-python",
   "name": "python",
   "nbconvert_exporter": "python",
   "pygments_lexer": "ipython3",
   "version": "3.6.4"
  }
 },
 "nbformat": 4,
 "nbformat_minor": 2
}
